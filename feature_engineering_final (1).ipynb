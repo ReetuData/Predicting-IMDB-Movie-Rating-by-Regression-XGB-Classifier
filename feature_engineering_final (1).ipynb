{
 "cells": [
  {
   "cell_type": "code",
   "execution_count": 1,
   "metadata": {
    "scrolled": true
   },
   "outputs": [
    {
     "name": "stdout",
     "output_type": "stream",
     "text": [
      "Collecting package metadata (current_repodata.json): ...working... done\n",
      "Solving environment: ...working... done\n",
      "\n",
      "# All requested packages already installed.\n",
      "\n",
      "\n",
      "Note: you may need to restart the kernel to use updated packages.\n"
     ]
    }
   ],
   "source": [
    "conda install -c conda-forge xgboost"
   ]
  },
  {
   "cell_type": "code",
   "execution_count": 2,
   "metadata": {
    "id": "1T1clCzNQTHs"
   },
   "outputs": [],
   "source": [
    "import pandas as pd\n",
    "import math\n",
    "import numpy as np\n",
    "from scipy.stats import norm\n",
    "from scipy import stats\n",
    "\n",
    "from sklearn.neighbors import KNeighborsClassifier\n",
    "from sklearn.metrics import classification_report\n",
    "from sklearn.model_selection import train_test_split\n",
    "from sklearn.metrics import roc_auc_score\n",
    "from sklearn.model_selection import GridSearchCV"
   ]
  },
  {
   "cell_type": "code",
   "execution_count": 3,
   "metadata": {
    "colab": {
     "base_uri": "https://localhost:8080/"
    },
    "id": "sHsyoZJqKqw_",
    "outputId": "e03e98c6-415a-4fd5-9172-60fba46ec869"
   },
   "outputs": [],
   "source": [
    "#from google.colab import drive\n",
    "#drive.mount('/IMDB_data_NoDup.csv')"
   ]
  },
  {
   "cell_type": "code",
   "execution_count": 4,
   "metadata": {
    "colab": {
     "base_uri": "https://localhost:8080/",
     "height": 447
    },
    "id": "WQVkD59UQTHv",
    "outputId": "88750541-e531-42df-cf7e-ed63ac465c1f",
    "scrolled": true
   },
   "outputs": [
    {
     "data": {
      "text/html": [
       "<div>\n",
       "<style scoped>\n",
       "    .dataframe tbody tr th:only-of-type {\n",
       "        vertical-align: middle;\n",
       "    }\n",
       "\n",
       "    .dataframe tbody tr th {\n",
       "        vertical-align: top;\n",
       "    }\n",
       "\n",
       "    .dataframe thead th {\n",
       "        text-align: right;\n",
       "    }\n",
       "</style>\n",
       "<table border=\"1\" class=\"dataframe\">\n",
       "  <thead>\n",
       "    <tr style=\"text-align: right;\">\n",
       "      <th></th>\n",
       "      <th>Index</th>\n",
       "      <th>titleId</th>\n",
       "      <th>title</th>\n",
       "      <th>region</th>\n",
       "      <th>titleType</th>\n",
       "      <th>startYear</th>\n",
       "      <th>genres</th>\n",
       "      <th>directors</th>\n",
       "      <th>writers</th>\n",
       "      <th>AveRating</th>\n",
       "      <th>Num_of_Votes</th>\n",
       "      <th>primaryName_Director</th>\n",
       "      <th>birthYear_Director</th>\n",
       "      <th>deathYear</th>\n",
       "      <th>primaryProfession_director</th>\n",
       "      <th>Dir_knownForTitles</th>\n",
       "    </tr>\n",
       "  </thead>\n",
       "  <tbody>\n",
       "    <tr>\n",
       "      <th>0</th>\n",
       "      <td>0</td>\n",
       "      <td>tt0000019</td>\n",
       "      <td>The Clown Barber</td>\n",
       "      <td>GB</td>\n",
       "      <td>short</td>\n",
       "      <td>1898.0</td>\n",
       "      <td>Comedy,Short</td>\n",
       "      <td>nm0932055</td>\n",
       "      <td>\\N</td>\n",
       "      <td>5.3</td>\n",
       "      <td>19.0</td>\n",
       "      <td>James Williamson</td>\n",
       "      <td>1855.0</td>\n",
       "      <td>1933.0</td>\n",
       "      <td>director,cinematographer,writer</td>\n",
       "      <td>tt0132534,tt0000355,tt0000273,tt0465763</td>\n",
       "    </tr>\n",
       "    <tr>\n",
       "      <th>1</th>\n",
       "      <td>2</td>\n",
       "      <td>tt0271697</td>\n",
       "      <td>Our New Errand Boy</td>\n",
       "      <td>GB</td>\n",
       "      <td>short</td>\n",
       "      <td>1905.0</td>\n",
       "      <td>Comedy,Short</td>\n",
       "      <td>nm0932055</td>\n",
       "      <td>\\N</td>\n",
       "      <td>5.4</td>\n",
       "      <td>98.0</td>\n",
       "      <td>James Williamson</td>\n",
       "      <td>1855.0</td>\n",
       "      <td>1933.0</td>\n",
       "      <td>director,cinematographer,writer</td>\n",
       "      <td>tt0132534,tt0000355,tt0000273,tt0465763</td>\n",
       "    </tr>\n",
       "    <tr>\n",
       "      <th>2</th>\n",
       "      <td>5</td>\n",
       "      <td>tt0274177</td>\n",
       "      <td>Two Naughty Boys Teasing the Cobbler</td>\n",
       "      <td>GB</td>\n",
       "      <td>short</td>\n",
       "      <td>1898.0</td>\n",
       "      <td>Comedy,Short</td>\n",
       "      <td>nm0932055</td>\n",
       "      <td>nm0932055</td>\n",
       "      <td>4.4</td>\n",
       "      <td>7.0</td>\n",
       "      <td>James Williamson</td>\n",
       "      <td>1855.0</td>\n",
       "      <td>1933.0</td>\n",
       "      <td>director,cinematographer,writer</td>\n",
       "      <td>tt0132534,tt0000355,tt0000273,tt0465763</td>\n",
       "    </tr>\n",
       "    <tr>\n",
       "      <th>3</th>\n",
       "      <td>14</td>\n",
       "      <td>tt0308848</td>\n",
       "      <td>Saved by a Dream</td>\n",
       "      <td>GB</td>\n",
       "      <td>short</td>\n",
       "      <td>1909.0</td>\n",
       "      <td>Drama,Short</td>\n",
       "      <td>nm0932055</td>\n",
       "      <td>\\N</td>\n",
       "      <td>6.3</td>\n",
       "      <td>6.0</td>\n",
       "      <td>James Williamson</td>\n",
       "      <td>1855.0</td>\n",
       "      <td>1933.0</td>\n",
       "      <td>director,cinematographer,writer</td>\n",
       "      <td>tt0132534,tt0000355,tt0000273,tt0465763</td>\n",
       "    </tr>\n",
       "    <tr>\n",
       "      <th>4</th>\n",
       "      <td>30</td>\n",
       "      <td>tt0454320</td>\n",
       "      <td>£100 Reward</td>\n",
       "      <td>GB</td>\n",
       "      <td>short</td>\n",
       "      <td>1908.0</td>\n",
       "      <td>Drama,Short</td>\n",
       "      <td>nm0932055</td>\n",
       "      <td>\\N</td>\n",
       "      <td>5.3</td>\n",
       "      <td>12.0</td>\n",
       "      <td>James Williamson</td>\n",
       "      <td>1855.0</td>\n",
       "      <td>1933.0</td>\n",
       "      <td>director,cinematographer,writer</td>\n",
       "      <td>tt0132534,tt0000355,tt0000273,tt0465763</td>\n",
       "    </tr>\n",
       "  </tbody>\n",
       "</table>\n",
       "</div>"
      ],
      "text/plain": [
       "   Index    titleId                                 title region titleType  \\\n",
       "0      0  tt0000019                      The Clown Barber     GB     short   \n",
       "1      2  tt0271697                    Our New Errand Boy     GB     short   \n",
       "2      5  tt0274177  Two Naughty Boys Teasing the Cobbler     GB     short   \n",
       "3     14  tt0308848                      Saved by a Dream     GB     short   \n",
       "4     30  tt0454320                           £100 Reward     GB     short   \n",
       "\n",
       "   startYear        genres  directors    writers  AveRating  Num_of_Votes  \\\n",
       "0     1898.0  Comedy,Short  nm0932055         \\N        5.3          19.0   \n",
       "1     1905.0  Comedy,Short  nm0932055         \\N        5.4          98.0   \n",
       "2     1898.0  Comedy,Short  nm0932055  nm0932055        4.4           7.0   \n",
       "3     1909.0   Drama,Short  nm0932055         \\N        6.3           6.0   \n",
       "4     1908.0   Drama,Short  nm0932055         \\N        5.3          12.0   \n",
       "\n",
       "  primaryName_Director birthYear_Director deathYear  \\\n",
       "0     James Williamson             1855.0    1933.0   \n",
       "1     James Williamson             1855.0    1933.0   \n",
       "2     James Williamson             1855.0    1933.0   \n",
       "3     James Williamson             1855.0    1933.0   \n",
       "4     James Williamson             1855.0    1933.0   \n",
       "\n",
       "        primaryProfession_director                       Dir_knownForTitles  \n",
       "0  director,cinematographer,writer  tt0132534,tt0000355,tt0000273,tt0465763  \n",
       "1  director,cinematographer,writer  tt0132534,tt0000355,tt0000273,tt0465763  \n",
       "2  director,cinematographer,writer  tt0132534,tt0000355,tt0000273,tt0465763  \n",
       "3  director,cinematographer,writer  tt0132534,tt0000355,tt0000273,tt0465763  \n",
       "4  director,cinematographer,writer  tt0132534,tt0000355,tt0000273,tt0465763  "
      ]
     },
     "execution_count": 4,
     "metadata": {},
     "output_type": "execute_result"
    }
   ],
   "source": [
    "IMDB_data_NoDup = \"C:\\\\Users\\\\vishd\\\\Desktop\\\\reetu\\\\Springboard course\\\\Data wrangling IMDB dataset\\\\IMDB_data_NoDup.csv\"\n",
    "\n",
    "#IMDB_data_NoDup = \"/content/IMDB_data_NoDup.csv\"\n",
    "#IMDB_data_NoDup = pd.read_csv(IMDB_data_NoDup, sep='\\t')\n",
    "IMDB_data_NoDup = pd.read_csv(IMDB_data_NoDup, sep='\\t', nrows = 5000)#, delimiter=',', header=None, skiprows=1)#, names=['LABEL','F1','F2','F3','F4','F5','X','Y','Z','C1','C2'])                                                # loading first files\n",
    "IMDB_data_NoDup.head()\n"
   ]
  },
  {
   "cell_type": "code",
   "execution_count": 5,
   "metadata": {
    "id": "7vurCXE4QTHw"
   },
   "outputs": [],
   "source": [
    "IMDB_data_NoDup = IMDB_data_NoDup.drop(['Index'], axis = 1)                                             #dropping index column\n"
   ]
  },
  {
   "cell_type": "code",
   "execution_count": 6,
   "metadata": {
    "colab": {
     "base_uri": "https://localhost:8080/",
     "height": 294
    },
    "id": "9H1xX0knQTHw",
    "outputId": "35cd9356-e757-4ff3-d546-9eb1edf913bb"
   },
   "outputs": [
    {
     "data": {
      "text/html": [
       "<div>\n",
       "<style scoped>\n",
       "    .dataframe tbody tr th:only-of-type {\n",
       "        vertical-align: middle;\n",
       "    }\n",
       "\n",
       "    .dataframe tbody tr th {\n",
       "        vertical-align: top;\n",
       "    }\n",
       "\n",
       "    .dataframe thead th {\n",
       "        text-align: right;\n",
       "    }\n",
       "</style>\n",
       "<table border=\"1\" class=\"dataframe\">\n",
       "  <thead>\n",
       "    <tr style=\"text-align: right;\">\n",
       "      <th></th>\n",
       "      <th>startYear</th>\n",
       "      <th>AveRating</th>\n",
       "      <th>Num_of_Votes</th>\n",
       "    </tr>\n",
       "  </thead>\n",
       "  <tbody>\n",
       "    <tr>\n",
       "      <th>count</th>\n",
       "      <td>5000.000000</td>\n",
       "      <td>5000.000000</td>\n",
       "      <td>5000.000000</td>\n",
       "    </tr>\n",
       "    <tr>\n",
       "      <th>mean</th>\n",
       "      <td>1926.331600</td>\n",
       "      <td>5.806900</td>\n",
       "      <td>29.539600</td>\n",
       "    </tr>\n",
       "    <tr>\n",
       "      <th>std</th>\n",
       "      <td>18.794496</td>\n",
       "      <td>1.241449</td>\n",
       "      <td>45.563438</td>\n",
       "    </tr>\n",
       "    <tr>\n",
       "      <th>min</th>\n",
       "      <td>1894.000000</td>\n",
       "      <td>1.000000</td>\n",
       "      <td>5.000000</td>\n",
       "    </tr>\n",
       "    <tr>\n",
       "      <th>25%</th>\n",
       "      <td>1912.000000</td>\n",
       "      <td>5.000000</td>\n",
       "      <td>8.000000</td>\n",
       "    </tr>\n",
       "    <tr>\n",
       "      <th>50%</th>\n",
       "      <td>1926.000000</td>\n",
       "      <td>5.800000</td>\n",
       "      <td>13.000000</td>\n",
       "    </tr>\n",
       "    <tr>\n",
       "      <th>75%</th>\n",
       "      <td>1937.000000</td>\n",
       "      <td>6.600000</td>\n",
       "      <td>31.000000</td>\n",
       "    </tr>\n",
       "    <tr>\n",
       "      <th>max</th>\n",
       "      <td>2017.000000</td>\n",
       "      <td>10.000000</td>\n",
       "      <td>590.000000</td>\n",
       "    </tr>\n",
       "  </tbody>\n",
       "</table>\n",
       "</div>"
      ],
      "text/plain": [
       "         startYear    AveRating  Num_of_Votes\n",
       "count  5000.000000  5000.000000   5000.000000\n",
       "mean   1926.331600     5.806900     29.539600\n",
       "std      18.794496     1.241449     45.563438\n",
       "min    1894.000000     1.000000      5.000000\n",
       "25%    1912.000000     5.000000      8.000000\n",
       "50%    1926.000000     5.800000     13.000000\n",
       "75%    1937.000000     6.600000     31.000000\n",
       "max    2017.000000    10.000000    590.000000"
      ]
     },
     "execution_count": 6,
     "metadata": {},
     "output_type": "execute_result"
    }
   ],
   "source": [
    "IMDB_data_NoDup.describe()"
   ]
  },
  {
   "cell_type": "code",
   "execution_count": 7,
   "metadata": {
    "colab": {
     "base_uri": "https://localhost:8080/"
    },
    "id": "LtkvYSSrQTHx",
    "outputId": "801c80f0-d0af-4204-912f-08685ba0c0e1"
   },
   "outputs": [
    {
     "data": {
      "text/plain": [
       "<IntegerArray>\n",
       "[1898, 1905, 1909, 1908, 1906, 1900, 1901, 1897, 1895, 1896, 1894, 1903, 1899,\n",
       " 1907, 1910, 1904, 1902, 1913, 1911, 1915, 1912, 1920, 1914, 1923, 1921, 1919,\n",
       " 1922, 1936, 1916, 1917, 1926, 1932, 1933, 1928, 1927, 1929, 1931, 1935, 1930,\n",
       " 1918, 1946, 1937, 1938, 1925, 1942, 1944, 1934, 1939, 1924, 2017, 1956, 1945,\n",
       " 1950, 1940, 1943, 1953, 1954, 1957, 1959, 1960, 1968, 1962, 1964, 1965, 1967,\n",
       " 1961, 1963, 1969, 1970, 1972, 1966, 1941, 1952, 1955, 1958, 1947, 1948, 1949,\n",
       " 1951, 2011, 1974, 1973, 2004, 1999, 1971, 1975, 2014, 1977, 1978, 1981, 1982,\n",
       " 1984, 2005]\n",
       "Length: 93, dtype: Int64"
      ]
     },
     "execution_count": 7,
     "metadata": {},
     "output_type": "execute_result"
    }
   ],
   "source": [
    "IMDB_data_NoDup['startYear'] = pd.to_numeric(IMDB_data_NoDup['startYear'], errors='coerce')\n",
    "IMDB_data_NoDup['startYear'] = IMDB_data_NoDup[\"startYear\"].convert_dtypes() \n",
    "\n",
    "IMDB_data_NoDup['startYear'].unique()"
   ]
  },
  {
   "cell_type": "code",
   "execution_count": 8,
   "metadata": {
    "id": "XBCaYXGpQTHx"
   },
   "outputs": [],
   "source": [
    "IMDB_data_NoDup['deathYear'] = pd.to_numeric(IMDB_data_NoDup[\"deathYear\"], errors='coerce')\n",
    "IMDB_data_NoDup['deathYear'] = IMDB_data_NoDup[\"deathYear\" ].convert_dtypes() "
   ]
  },
  {
   "cell_type": "code",
   "execution_count": 9,
   "metadata": {
    "id": "iY_weoJ6QTHx"
   },
   "outputs": [],
   "source": [
    "IMDB_data_NoDup['birthYear_Director'] = pd.to_numeric(IMDB_data_NoDup[\"birthYear_Director\"], errors='coerce')\n",
    "IMDB_data_NoDup['birthYear_Director'] = IMDB_data_NoDup[\"birthYear_Director\"].convert_dtypes() \n"
   ]
  },
  {
   "cell_type": "code",
   "execution_count": 10,
   "metadata": {
    "colab": {
     "base_uri": "https://localhost:8080/",
     "height": 447
    },
    "id": "4Ux31oSMQTHy",
    "outputId": "511f4588-3aee-4582-d772-7db023caadd7"
   },
   "outputs": [
    {
     "data": {
      "text/html": [
       "<div>\n",
       "<style scoped>\n",
       "    .dataframe tbody tr th:only-of-type {\n",
       "        vertical-align: middle;\n",
       "    }\n",
       "\n",
       "    .dataframe tbody tr th {\n",
       "        vertical-align: top;\n",
       "    }\n",
       "\n",
       "    .dataframe thead th {\n",
       "        text-align: right;\n",
       "    }\n",
       "</style>\n",
       "<table border=\"1\" class=\"dataframe\">\n",
       "  <thead>\n",
       "    <tr style=\"text-align: right;\">\n",
       "      <th></th>\n",
       "      <th>titleId</th>\n",
       "      <th>title</th>\n",
       "      <th>region</th>\n",
       "      <th>titleType</th>\n",
       "      <th>startYear</th>\n",
       "      <th>genres</th>\n",
       "      <th>directors</th>\n",
       "      <th>writers</th>\n",
       "      <th>AveRating</th>\n",
       "      <th>Num_of_Votes</th>\n",
       "      <th>primaryName_Director</th>\n",
       "      <th>birthYear_Director</th>\n",
       "      <th>deathYear</th>\n",
       "      <th>primaryProfession_director</th>\n",
       "      <th>Dir_knownForTitles</th>\n",
       "    </tr>\n",
       "  </thead>\n",
       "  <tbody>\n",
       "    <tr>\n",
       "      <th>0</th>\n",
       "      <td>tt0000019</td>\n",
       "      <td>The Clown Barber</td>\n",
       "      <td>GB</td>\n",
       "      <td>short</td>\n",
       "      <td>1898</td>\n",
       "      <td>Comedy,Short</td>\n",
       "      <td>nm0932055</td>\n",
       "      <td>\\N</td>\n",
       "      <td>5.3</td>\n",
       "      <td>19.0</td>\n",
       "      <td>James Williamson</td>\n",
       "      <td>1855</td>\n",
       "      <td>1933</td>\n",
       "      <td>director,cinematographer,writer</td>\n",
       "      <td>tt0132534,tt0000355,tt0000273,tt0465763</td>\n",
       "    </tr>\n",
       "    <tr>\n",
       "      <th>1</th>\n",
       "      <td>tt0271697</td>\n",
       "      <td>Our New Errand Boy</td>\n",
       "      <td>GB</td>\n",
       "      <td>short</td>\n",
       "      <td>1905</td>\n",
       "      <td>Comedy,Short</td>\n",
       "      <td>nm0932055</td>\n",
       "      <td>\\N</td>\n",
       "      <td>5.4</td>\n",
       "      <td>98.0</td>\n",
       "      <td>James Williamson</td>\n",
       "      <td>1855</td>\n",
       "      <td>1933</td>\n",
       "      <td>director,cinematographer,writer</td>\n",
       "      <td>tt0132534,tt0000355,tt0000273,tt0465763</td>\n",
       "    </tr>\n",
       "    <tr>\n",
       "      <th>2</th>\n",
       "      <td>tt0274177</td>\n",
       "      <td>Two Naughty Boys Teasing the Cobbler</td>\n",
       "      <td>GB</td>\n",
       "      <td>short</td>\n",
       "      <td>1898</td>\n",
       "      <td>Comedy,Short</td>\n",
       "      <td>nm0932055</td>\n",
       "      <td>nm0932055</td>\n",
       "      <td>4.4</td>\n",
       "      <td>7.0</td>\n",
       "      <td>James Williamson</td>\n",
       "      <td>1855</td>\n",
       "      <td>1933</td>\n",
       "      <td>director,cinematographer,writer</td>\n",
       "      <td>tt0132534,tt0000355,tt0000273,tt0465763</td>\n",
       "    </tr>\n",
       "    <tr>\n",
       "      <th>3</th>\n",
       "      <td>tt0308848</td>\n",
       "      <td>Saved by a Dream</td>\n",
       "      <td>GB</td>\n",
       "      <td>short</td>\n",
       "      <td>1909</td>\n",
       "      <td>Drama,Short</td>\n",
       "      <td>nm0932055</td>\n",
       "      <td>\\N</td>\n",
       "      <td>6.3</td>\n",
       "      <td>6.0</td>\n",
       "      <td>James Williamson</td>\n",
       "      <td>1855</td>\n",
       "      <td>1933</td>\n",
       "      <td>director,cinematographer,writer</td>\n",
       "      <td>tt0132534,tt0000355,tt0000273,tt0465763</td>\n",
       "    </tr>\n",
       "    <tr>\n",
       "      <th>4</th>\n",
       "      <td>tt0454320</td>\n",
       "      <td>£100 Reward</td>\n",
       "      <td>GB</td>\n",
       "      <td>short</td>\n",
       "      <td>1908</td>\n",
       "      <td>Drama,Short</td>\n",
       "      <td>nm0932055</td>\n",
       "      <td>\\N</td>\n",
       "      <td>5.3</td>\n",
       "      <td>12.0</td>\n",
       "      <td>James Williamson</td>\n",
       "      <td>1855</td>\n",
       "      <td>1933</td>\n",
       "      <td>director,cinematographer,writer</td>\n",
       "      <td>tt0132534,tt0000355,tt0000273,tt0465763</td>\n",
       "    </tr>\n",
       "  </tbody>\n",
       "</table>\n",
       "</div>"
      ],
      "text/plain": [
       "     titleId                                 title region titleType  \\\n",
       "0  tt0000019                      The Clown Barber     GB     short   \n",
       "1  tt0271697                    Our New Errand Boy     GB     short   \n",
       "2  tt0274177  Two Naughty Boys Teasing the Cobbler     GB     short   \n",
       "3  tt0308848                      Saved by a Dream     GB     short   \n",
       "4  tt0454320                           £100 Reward     GB     short   \n",
       "\n",
       "   startYear        genres  directors    writers  AveRating  Num_of_Votes  \\\n",
       "0       1898  Comedy,Short  nm0932055         \\N        5.3          19.0   \n",
       "1       1905  Comedy,Short  nm0932055         \\N        5.4          98.0   \n",
       "2       1898  Comedy,Short  nm0932055  nm0932055        4.4           7.0   \n",
       "3       1909   Drama,Short  nm0932055         \\N        6.3           6.0   \n",
       "4       1908   Drama,Short  nm0932055         \\N        5.3          12.0   \n",
       "\n",
       "  primaryName_Director  birthYear_Director  deathYear  \\\n",
       "0     James Williamson                1855       1933   \n",
       "1     James Williamson                1855       1933   \n",
       "2     James Williamson                1855       1933   \n",
       "3     James Williamson                1855       1933   \n",
       "4     James Williamson                1855       1933   \n",
       "\n",
       "        primaryProfession_director                       Dir_knownForTitles  \n",
       "0  director,cinematographer,writer  tt0132534,tt0000355,tt0000273,tt0465763  \n",
       "1  director,cinematographer,writer  tt0132534,tt0000355,tt0000273,tt0465763  \n",
       "2  director,cinematographer,writer  tt0132534,tt0000355,tt0000273,tt0465763  \n",
       "3  director,cinematographer,writer  tt0132534,tt0000355,tt0000273,tt0465763  \n",
       "4  director,cinematographer,writer  tt0132534,tt0000355,tt0000273,tt0465763  "
      ]
     },
     "execution_count": 10,
     "metadata": {},
     "output_type": "execute_result"
    }
   ],
   "source": [
    "IMDB_data_NoDup.head()"
   ]
  },
  {
   "cell_type": "code",
   "execution_count": 11,
   "metadata": {
    "colab": {
     "base_uri": "https://localhost:8080/"
    },
    "id": "PBBGrlOgQTHy",
    "outputId": "310bf735-a3bb-459c-c2e6-dbc9170e274e"
   },
   "outputs": [
    {
     "data": {
      "text/plain": [
       "Int64Dtype()"
      ]
     },
     "execution_count": 11,
     "metadata": {},
     "output_type": "execute_result"
    }
   ],
   "source": [
    "IMDB_data_NoDup['startYear'].dtype"
   ]
  },
  {
   "cell_type": "code",
   "execution_count": 12,
   "metadata": {
    "id": "KXlN6H8RQTHy"
   },
   "outputs": [],
   "source": [
    "IMDB_data_NoDup['Age_of_movie'] = 2021 - IMDB_data_NoDup['startYear'] "
   ]
  },
  {
   "cell_type": "code",
   "execution_count": 13,
   "metadata": {
    "colab": {
     "base_uri": "https://localhost:8080/",
     "height": 447
    },
    "id": "M6nxOukSQTHz",
    "outputId": "46d03d58-8868-496f-de88-1b2c64b92192"
   },
   "outputs": [
    {
     "data": {
      "text/html": [
       "<div>\n",
       "<style scoped>\n",
       "    .dataframe tbody tr th:only-of-type {\n",
       "        vertical-align: middle;\n",
       "    }\n",
       "\n",
       "    .dataframe tbody tr th {\n",
       "        vertical-align: top;\n",
       "    }\n",
       "\n",
       "    .dataframe thead th {\n",
       "        text-align: right;\n",
       "    }\n",
       "</style>\n",
       "<table border=\"1\" class=\"dataframe\">\n",
       "  <thead>\n",
       "    <tr style=\"text-align: right;\">\n",
       "      <th></th>\n",
       "      <th>titleId</th>\n",
       "      <th>title</th>\n",
       "      <th>region</th>\n",
       "      <th>titleType</th>\n",
       "      <th>startYear</th>\n",
       "      <th>genres</th>\n",
       "      <th>directors</th>\n",
       "      <th>writers</th>\n",
       "      <th>AveRating</th>\n",
       "      <th>Num_of_Votes</th>\n",
       "      <th>primaryName_Director</th>\n",
       "      <th>birthYear_Director</th>\n",
       "      <th>deathYear</th>\n",
       "      <th>primaryProfession_director</th>\n",
       "      <th>Dir_knownForTitles</th>\n",
       "      <th>Age_of_movie</th>\n",
       "    </tr>\n",
       "  </thead>\n",
       "  <tbody>\n",
       "    <tr>\n",
       "      <th>0</th>\n",
       "      <td>tt0000019</td>\n",
       "      <td>The Clown Barber</td>\n",
       "      <td>GB</td>\n",
       "      <td>short</td>\n",
       "      <td>1898</td>\n",
       "      <td>Comedy,Short</td>\n",
       "      <td>nm0932055</td>\n",
       "      <td>\\N</td>\n",
       "      <td>5.3</td>\n",
       "      <td>19.0</td>\n",
       "      <td>James Williamson</td>\n",
       "      <td>1855</td>\n",
       "      <td>1933</td>\n",
       "      <td>director,cinematographer,writer</td>\n",
       "      <td>tt0132534,tt0000355,tt0000273,tt0465763</td>\n",
       "      <td>123</td>\n",
       "    </tr>\n",
       "    <tr>\n",
       "      <th>1</th>\n",
       "      <td>tt0271697</td>\n",
       "      <td>Our New Errand Boy</td>\n",
       "      <td>GB</td>\n",
       "      <td>short</td>\n",
       "      <td>1905</td>\n",
       "      <td>Comedy,Short</td>\n",
       "      <td>nm0932055</td>\n",
       "      <td>\\N</td>\n",
       "      <td>5.4</td>\n",
       "      <td>98.0</td>\n",
       "      <td>James Williamson</td>\n",
       "      <td>1855</td>\n",
       "      <td>1933</td>\n",
       "      <td>director,cinematographer,writer</td>\n",
       "      <td>tt0132534,tt0000355,tt0000273,tt0465763</td>\n",
       "      <td>116</td>\n",
       "    </tr>\n",
       "    <tr>\n",
       "      <th>2</th>\n",
       "      <td>tt0274177</td>\n",
       "      <td>Two Naughty Boys Teasing the Cobbler</td>\n",
       "      <td>GB</td>\n",
       "      <td>short</td>\n",
       "      <td>1898</td>\n",
       "      <td>Comedy,Short</td>\n",
       "      <td>nm0932055</td>\n",
       "      <td>nm0932055</td>\n",
       "      <td>4.4</td>\n",
       "      <td>7.0</td>\n",
       "      <td>James Williamson</td>\n",
       "      <td>1855</td>\n",
       "      <td>1933</td>\n",
       "      <td>director,cinematographer,writer</td>\n",
       "      <td>tt0132534,tt0000355,tt0000273,tt0465763</td>\n",
       "      <td>123</td>\n",
       "    </tr>\n",
       "    <tr>\n",
       "      <th>3</th>\n",
       "      <td>tt0308848</td>\n",
       "      <td>Saved by a Dream</td>\n",
       "      <td>GB</td>\n",
       "      <td>short</td>\n",
       "      <td>1909</td>\n",
       "      <td>Drama,Short</td>\n",
       "      <td>nm0932055</td>\n",
       "      <td>\\N</td>\n",
       "      <td>6.3</td>\n",
       "      <td>6.0</td>\n",
       "      <td>James Williamson</td>\n",
       "      <td>1855</td>\n",
       "      <td>1933</td>\n",
       "      <td>director,cinematographer,writer</td>\n",
       "      <td>tt0132534,tt0000355,tt0000273,tt0465763</td>\n",
       "      <td>112</td>\n",
       "    </tr>\n",
       "    <tr>\n",
       "      <th>4</th>\n",
       "      <td>tt0454320</td>\n",
       "      <td>£100 Reward</td>\n",
       "      <td>GB</td>\n",
       "      <td>short</td>\n",
       "      <td>1908</td>\n",
       "      <td>Drama,Short</td>\n",
       "      <td>nm0932055</td>\n",
       "      <td>\\N</td>\n",
       "      <td>5.3</td>\n",
       "      <td>12.0</td>\n",
       "      <td>James Williamson</td>\n",
       "      <td>1855</td>\n",
       "      <td>1933</td>\n",
       "      <td>director,cinematographer,writer</td>\n",
       "      <td>tt0132534,tt0000355,tt0000273,tt0465763</td>\n",
       "      <td>113</td>\n",
       "    </tr>\n",
       "  </tbody>\n",
       "</table>\n",
       "</div>"
      ],
      "text/plain": [
       "     titleId                                 title region titleType  \\\n",
       "0  tt0000019                      The Clown Barber     GB     short   \n",
       "1  tt0271697                    Our New Errand Boy     GB     short   \n",
       "2  tt0274177  Two Naughty Boys Teasing the Cobbler     GB     short   \n",
       "3  tt0308848                      Saved by a Dream     GB     short   \n",
       "4  tt0454320                           £100 Reward     GB     short   \n",
       "\n",
       "   startYear        genres  directors    writers  AveRating  Num_of_Votes  \\\n",
       "0       1898  Comedy,Short  nm0932055         \\N        5.3          19.0   \n",
       "1       1905  Comedy,Short  nm0932055         \\N        5.4          98.0   \n",
       "2       1898  Comedy,Short  nm0932055  nm0932055        4.4           7.0   \n",
       "3       1909   Drama,Short  nm0932055         \\N        6.3           6.0   \n",
       "4       1908   Drama,Short  nm0932055         \\N        5.3          12.0   \n",
       "\n",
       "  primaryName_Director  birthYear_Director  deathYear  \\\n",
       "0     James Williamson                1855       1933   \n",
       "1     James Williamson                1855       1933   \n",
       "2     James Williamson                1855       1933   \n",
       "3     James Williamson                1855       1933   \n",
       "4     James Williamson                1855       1933   \n",
       "\n",
       "        primaryProfession_director                       Dir_knownForTitles  \\\n",
       "0  director,cinematographer,writer  tt0132534,tt0000355,tt0000273,tt0465763   \n",
       "1  director,cinematographer,writer  tt0132534,tt0000355,tt0000273,tt0465763   \n",
       "2  director,cinematographer,writer  tt0132534,tt0000355,tt0000273,tt0465763   \n",
       "3  director,cinematographer,writer  tt0132534,tt0000355,tt0000273,tt0465763   \n",
       "4  director,cinematographer,writer  tt0132534,tt0000355,tt0000273,tt0465763   \n",
       "\n",
       "   Age_of_movie  \n",
       "0           123  \n",
       "1           116  \n",
       "2           123  \n",
       "3           112  \n",
       "4           113  "
      ]
     },
     "execution_count": 13,
     "metadata": {},
     "output_type": "execute_result"
    }
   ],
   "source": [
    "IMDB_data_NoDup.head()"
   ]
  },
  {
   "cell_type": "code",
   "execution_count": 14,
   "metadata": {
    "colab": {
     "base_uri": "https://localhost:8080/"
    },
    "id": "6x-3ZJisQTH0",
    "outputId": "a71c6eae-be4f-4dfd-9611-8e00332e5f58"
   },
   "outputs": [
    {
     "data": {
      "text/plain": [
       "<IntegerArray>\n",
       "[123, 116, 112, 113, 115, 121, 120, 124, 126, 125, 127, 118, 122, 114, 111,\n",
       " 117, 119, 108, 110, 106, 109, 101, 107,  98, 100, 102,  99,  85, 105, 104,\n",
       "  95,  89,  88,  93,  94,  92,  90,  86,  91, 103,  75,  84,  83,  96,  79,\n",
       "  77,  87,  82,  97,   4,  65,  76,  71,  81,  78,  68,  67,  64,  62,  61,\n",
       "  53,  59,  57,  56,  54,  60,  58,  52,  51,  49,  55,  80,  69,  66,  63,\n",
       "  74,  73,  72,  70,  10,  47,  48,  17,  22,  50,  46,   7,  44,  43,  40,\n",
       "  39,  37,  16]\n",
       "Length: 93, dtype: Int64"
      ]
     },
     "execution_count": 14,
     "metadata": {},
     "output_type": "execute_result"
    }
   ],
   "source": [
    "IMDB_data_NoDup['Age_of_movie'].unique() "
   ]
  },
  {
   "cell_type": "code",
   "execution_count": 15,
   "metadata": {
    "colab": {
     "base_uri": "https://localhost:8080/"
    },
    "id": "0kpu3SCRQTH0",
    "outputId": "78b0b4b5-b540-4869-c330-924e4b001544",
    "scrolled": true
   },
   "outputs": [
    {
     "data": {
      "text/plain": [
       "<IntegerArray>\n",
       "[1855, 1854, 1847, 1861, <NA>, 1860, 1873, 1872, 1869, 1874, 1875, 1870, 1864,\n",
       " 1859, 1851, 1862, 1884, 1880, 1871, 1877, 1868, 1858, 1852, 1867, 1886, 1879,\n",
       " 1876, 1863, 1885, 1881, 1853, 1878, 1883, 1865, 1882, 1888, 1887, 1857, 1891,\n",
       " 1894, 1893, 1866, 1890, 1889, 1856, 1892, 1898, 1895, 1899, 1896, 1897, 1901,\n",
       " 1902, 1900, 1903, 1904, 1908, 1906, 1910, 1905, 1907, 1909, 1911, 1922]\n",
       "Length: 64, dtype: Int64"
      ]
     },
     "execution_count": 15,
     "metadata": {},
     "output_type": "execute_result"
    }
   ],
   "source": [
    "IMDB_data_NoDup['birthYear_Director'].unique()\n"
   ]
  },
  {
   "cell_type": "code",
   "execution_count": 16,
   "metadata": {
    "colab": {
     "base_uri": "https://localhost:8080/",
     "height": 447
    },
    "id": "6oTjJm4cQTH1",
    "outputId": "2180ae47-d28d-4cbb-8298-93391850b669"
   },
   "outputs": [
    {
     "data": {
      "text/html": [
       "<div>\n",
       "<style scoped>\n",
       "    .dataframe tbody tr th:only-of-type {\n",
       "        vertical-align: middle;\n",
       "    }\n",
       "\n",
       "    .dataframe tbody tr th {\n",
       "        vertical-align: top;\n",
       "    }\n",
       "\n",
       "    .dataframe thead th {\n",
       "        text-align: right;\n",
       "    }\n",
       "</style>\n",
       "<table border=\"1\" class=\"dataframe\">\n",
       "  <thead>\n",
       "    <tr style=\"text-align: right;\">\n",
       "      <th></th>\n",
       "      <th>titleId</th>\n",
       "      <th>title</th>\n",
       "      <th>region</th>\n",
       "      <th>titleType</th>\n",
       "      <th>startYear</th>\n",
       "      <th>genres</th>\n",
       "      <th>directors</th>\n",
       "      <th>writers</th>\n",
       "      <th>AveRating</th>\n",
       "      <th>Num_of_Votes</th>\n",
       "      <th>primaryName_Director</th>\n",
       "      <th>birthYear_Director</th>\n",
       "      <th>deathYear</th>\n",
       "      <th>primaryProfession_director</th>\n",
       "      <th>Dir_knownForTitles</th>\n",
       "      <th>Age_of_movie</th>\n",
       "      <th>Director_age</th>\n",
       "    </tr>\n",
       "  </thead>\n",
       "  <tbody>\n",
       "    <tr>\n",
       "      <th>0</th>\n",
       "      <td>tt0000019</td>\n",
       "      <td>The Clown Barber</td>\n",
       "      <td>GB</td>\n",
       "      <td>short</td>\n",
       "      <td>1898</td>\n",
       "      <td>Comedy,Short</td>\n",
       "      <td>nm0932055</td>\n",
       "      <td>\\N</td>\n",
       "      <td>5.3</td>\n",
       "      <td>19.0</td>\n",
       "      <td>James Williamson</td>\n",
       "      <td>1855</td>\n",
       "      <td>1933</td>\n",
       "      <td>director,cinematographer,writer</td>\n",
       "      <td>tt0132534,tt0000355,tt0000273,tt0465763</td>\n",
       "      <td>123</td>\n",
       "      <td>78</td>\n",
       "    </tr>\n",
       "    <tr>\n",
       "      <th>1</th>\n",
       "      <td>tt0271697</td>\n",
       "      <td>Our New Errand Boy</td>\n",
       "      <td>GB</td>\n",
       "      <td>short</td>\n",
       "      <td>1905</td>\n",
       "      <td>Comedy,Short</td>\n",
       "      <td>nm0932055</td>\n",
       "      <td>\\N</td>\n",
       "      <td>5.4</td>\n",
       "      <td>98.0</td>\n",
       "      <td>James Williamson</td>\n",
       "      <td>1855</td>\n",
       "      <td>1933</td>\n",
       "      <td>director,cinematographer,writer</td>\n",
       "      <td>tt0132534,tt0000355,tt0000273,tt0465763</td>\n",
       "      <td>116</td>\n",
       "      <td>78</td>\n",
       "    </tr>\n",
       "    <tr>\n",
       "      <th>2</th>\n",
       "      <td>tt0274177</td>\n",
       "      <td>Two Naughty Boys Teasing the Cobbler</td>\n",
       "      <td>GB</td>\n",
       "      <td>short</td>\n",
       "      <td>1898</td>\n",
       "      <td>Comedy,Short</td>\n",
       "      <td>nm0932055</td>\n",
       "      <td>nm0932055</td>\n",
       "      <td>4.4</td>\n",
       "      <td>7.0</td>\n",
       "      <td>James Williamson</td>\n",
       "      <td>1855</td>\n",
       "      <td>1933</td>\n",
       "      <td>director,cinematographer,writer</td>\n",
       "      <td>tt0132534,tt0000355,tt0000273,tt0465763</td>\n",
       "      <td>123</td>\n",
       "      <td>78</td>\n",
       "    </tr>\n",
       "    <tr>\n",
       "      <th>3</th>\n",
       "      <td>tt0308848</td>\n",
       "      <td>Saved by a Dream</td>\n",
       "      <td>GB</td>\n",
       "      <td>short</td>\n",
       "      <td>1909</td>\n",
       "      <td>Drama,Short</td>\n",
       "      <td>nm0932055</td>\n",
       "      <td>\\N</td>\n",
       "      <td>6.3</td>\n",
       "      <td>6.0</td>\n",
       "      <td>James Williamson</td>\n",
       "      <td>1855</td>\n",
       "      <td>1933</td>\n",
       "      <td>director,cinematographer,writer</td>\n",
       "      <td>tt0132534,tt0000355,tt0000273,tt0465763</td>\n",
       "      <td>112</td>\n",
       "      <td>78</td>\n",
       "    </tr>\n",
       "    <tr>\n",
       "      <th>4</th>\n",
       "      <td>tt0454320</td>\n",
       "      <td>£100 Reward</td>\n",
       "      <td>GB</td>\n",
       "      <td>short</td>\n",
       "      <td>1908</td>\n",
       "      <td>Drama,Short</td>\n",
       "      <td>nm0932055</td>\n",
       "      <td>\\N</td>\n",
       "      <td>5.3</td>\n",
       "      <td>12.0</td>\n",
       "      <td>James Williamson</td>\n",
       "      <td>1855</td>\n",
       "      <td>1933</td>\n",
       "      <td>director,cinematographer,writer</td>\n",
       "      <td>tt0132534,tt0000355,tt0000273,tt0465763</td>\n",
       "      <td>113</td>\n",
       "      <td>78</td>\n",
       "    </tr>\n",
       "  </tbody>\n",
       "</table>\n",
       "</div>"
      ],
      "text/plain": [
       "     titleId                                 title region titleType  \\\n",
       "0  tt0000019                      The Clown Barber     GB     short   \n",
       "1  tt0271697                    Our New Errand Boy     GB     short   \n",
       "2  tt0274177  Two Naughty Boys Teasing the Cobbler     GB     short   \n",
       "3  tt0308848                      Saved by a Dream     GB     short   \n",
       "4  tt0454320                           £100 Reward     GB     short   \n",
       "\n",
       "   startYear        genres  directors    writers  AveRating  Num_of_Votes  \\\n",
       "0       1898  Comedy,Short  nm0932055         \\N        5.3          19.0   \n",
       "1       1905  Comedy,Short  nm0932055         \\N        5.4          98.0   \n",
       "2       1898  Comedy,Short  nm0932055  nm0932055        4.4           7.0   \n",
       "3       1909   Drama,Short  nm0932055         \\N        6.3           6.0   \n",
       "4       1908   Drama,Short  nm0932055         \\N        5.3          12.0   \n",
       "\n",
       "  primaryName_Director  birthYear_Director  deathYear  \\\n",
       "0     James Williamson                1855       1933   \n",
       "1     James Williamson                1855       1933   \n",
       "2     James Williamson                1855       1933   \n",
       "3     James Williamson                1855       1933   \n",
       "4     James Williamson                1855       1933   \n",
       "\n",
       "        primaryProfession_director                       Dir_knownForTitles  \\\n",
       "0  director,cinematographer,writer  tt0132534,tt0000355,tt0000273,tt0465763   \n",
       "1  director,cinematographer,writer  tt0132534,tt0000355,tt0000273,tt0465763   \n",
       "2  director,cinematographer,writer  tt0132534,tt0000355,tt0000273,tt0465763   \n",
       "3  director,cinematographer,writer  tt0132534,tt0000355,tt0000273,tt0465763   \n",
       "4  director,cinematographer,writer  tt0132534,tt0000355,tt0000273,tt0465763   \n",
       "\n",
       "   Age_of_movie  Director_age  \n",
       "0           123            78  \n",
       "1           116            78  \n",
       "2           123            78  \n",
       "3           112            78  \n",
       "4           113            78  "
      ]
     },
     "execution_count": 16,
     "metadata": {},
     "output_type": "execute_result"
    }
   ],
   "source": [
    "IMDB_data_NoDup['Director_age'] = IMDB_data_NoDup['deathYear']  - IMDB_data_NoDup['birthYear_Director'] \n",
    "IMDB_data_NoDup.head()"
   ]
  },
  {
   "cell_type": "code",
   "execution_count": 17,
   "metadata": {
    "colab": {
     "base_uri": "https://localhost:8080/"
    },
    "id": "rd7evaVQQTH1",
    "outputId": "4de4e7d9-7e62-474b-f5b6-8ac46d4cd6f1"
   },
   "outputs": [
    {
     "data": {
      "text/plain": [
       "1.2413244499324103"
      ]
     },
     "execution_count": 17,
     "metadata": {},
     "output_type": "execute_result"
    }
   ],
   "source": [
    "std_Of_AvRating = np.std(IMDB_data_NoDup['AveRating'])\n",
    "std_Of_AvRating"
   ]
  },
  {
   "cell_type": "code",
   "execution_count": 18,
   "metadata": {
    "colab": {
     "base_uri": "https://localhost:8080/"
    },
    "id": "Xn3pqgSvQTH2",
    "outputId": "86e7fe3a-265e-4029-9ea8-45c192e12d96"
   },
   "outputs": [
    {
     "data": {
      "text/plain": [
       "10.0"
      ]
     },
     "execution_count": 18,
     "metadata": {},
     "output_type": "execute_result"
    }
   ],
   "source": [
    "np.max(IMDB_data_NoDup['AveRating'])"
   ]
  },
  {
   "cell_type": "code",
   "execution_count": 19,
   "metadata": {
    "colab": {
     "base_uri": "https://localhost:8080/"
    },
    "id": "GhknFJ0zQTH2",
    "outputId": "3bbfb01b-4dc5-47e8-fe4f-fab81a835f6f"
   },
   "outputs": [
    {
     "data": {
      "text/plain": [
       "1.0"
      ]
     },
     "execution_count": 19,
     "metadata": {},
     "output_type": "execute_result"
    }
   ],
   "source": [
    "np.min(IMDB_data_NoDup['AveRating'])"
   ]
  },
  {
   "cell_type": "code",
   "execution_count": 20,
   "metadata": {
    "id": "tScTcgXyQTH2"
   },
   "outputs": [],
   "source": [
    "mean_mu = np.mean(IMDB_data_NoDup['AveRating'])"
   ]
  },
  {
   "cell_type": "code",
   "execution_count": 21,
   "metadata": {
    "colab": {
     "base_uri": "https://localhost:8080/"
    },
    "id": "-g407XymQTH2",
    "outputId": "84fa52b0-ba73-49d1-a376-222c7141888e"
   },
   "outputs": [
    {
     "data": {
      "text/plain": [
       "(3.3739487850034804, 8.239851214996516)"
      ]
     },
     "execution_count": 21,
     "metadata": {},
     "output_type": "execute_result"
    }
   ],
   "source": [
    "\n",
    "std_Of_AvRat_sig = np.std(IMDB_data_NoDup['AveRating'])\n",
    "std_Of_AvRat_sig\n",
    "\n",
    "\n",
    "stats.norm.interval(0.95, loc=mean_mu, scale= std_Of_AvRat_sig)\n",
    "\n",
    "\n"
   ]
  },
  {
   "cell_type": "code",
   "execution_count": 22,
   "metadata": {
    "id": "fiX4Fp1xQTH3"
   },
   "outputs": [],
   "source": [
    "#IMDB_data_NoDup['startYear'] = IMDB_data_NoDup['startYear'].astype(str).replace('\\.0', '', regex=True)\n",
    "#IMDB_data_NoDup['startYear'] = IMDB_data_NoDup['startYear'].astype(str).replace('\\N', '', regex=True)"
   ]
  },
  {
   "cell_type": "code",
   "execution_count": 23,
   "metadata": {
    "colab": {
     "base_uri": "https://localhost:8080/"
    },
    "id": "ns0K0LBdQTH3",
    "outputId": "7aec7f6d-f96f-4400-b8fa-2385aab8f32a"
   },
   "outputs": [
    {
     "data": {
      "text/plain": [
       "0"
      ]
     },
     "execution_count": 23,
     "metadata": {},
     "output_type": "execute_result"
    }
   ],
   "source": [
    "IMDB_data_NoDup['Age_of_movie'].isna().sum()\n"
   ]
  },
  {
   "cell_type": "code",
   "execution_count": 24,
   "metadata": {
    "id": "FZPjZiXKQTH3"
   },
   "outputs": [],
   "source": [
    "IMDB_data_NoDup['Age_of_movie'] = IMDB_data_NoDup['Age_of_movie'].astype('float')"
   ]
  },
  {
   "cell_type": "code",
   "execution_count": 25,
   "metadata": {
    "id": "5anuadPUQTH3"
   },
   "outputs": [],
   "source": [
    "IMDB_data_NoDup['Age_of_movie'].fillna((IMDB_data_NoDup['Age_of_movie'].mean()), inplace=True)"
   ]
  },
  {
   "cell_type": "code",
   "execution_count": 26,
   "metadata": {
    "colab": {
     "base_uri": "https://localhost:8080/"
    },
    "id": "VTeQn8ZTQTH3",
    "outputId": "545403a3-d752-43c1-ee2e-61dfbff93a49"
   },
   "outputs": [
    {
     "data": {
      "text/plain": [
       "109.0    170\n",
       "124.0    166\n",
       "91.0     153\n",
       "108.0    136\n",
       "123.0    135\n",
       "        ... \n",
       "22.0       1\n",
       "17.0       1\n",
       "46.0       1\n",
       "37.0       1\n",
       "10.0       1\n",
       "Name: Age_of_movie, Length: 93, dtype: int64"
      ]
     },
     "execution_count": 26,
     "metadata": {},
     "output_type": "execute_result"
    }
   ],
   "source": [
    "IMDB_data_NoDup['Age_of_movie'].value_counts()"
   ]
  },
  {
   "cell_type": "code",
   "execution_count": null,
   "metadata": {
    "id": "Dxl9w5o_QTH4"
   },
   "outputs": [],
   "source": []
  },
  {
   "cell_type": "code",
   "execution_count": 27,
   "metadata": {
    "colab": {
     "base_uri": "https://localhost:8080/",
     "height": 447
    },
    "id": "4mkFwbZsQTH4",
    "outputId": "16e9c419-3c8c-4ed5-cc32-b63f8e82b493",
    "scrolled": true
   },
   "outputs": [
    {
     "data": {
      "text/html": [
       "<div>\n",
       "<style scoped>\n",
       "    .dataframe tbody tr th:only-of-type {\n",
       "        vertical-align: middle;\n",
       "    }\n",
       "\n",
       "    .dataframe tbody tr th {\n",
       "        vertical-align: top;\n",
       "    }\n",
       "\n",
       "    .dataframe thead th {\n",
       "        text-align: right;\n",
       "    }\n",
       "</style>\n",
       "<table border=\"1\" class=\"dataframe\">\n",
       "  <thead>\n",
       "    <tr style=\"text-align: right;\">\n",
       "      <th></th>\n",
       "      <th>titleId</th>\n",
       "      <th>title</th>\n",
       "      <th>region</th>\n",
       "      <th>titleType</th>\n",
       "      <th>startYear</th>\n",
       "      <th>genres</th>\n",
       "      <th>directors</th>\n",
       "      <th>writers</th>\n",
       "      <th>AveRating</th>\n",
       "      <th>Num_of_Votes</th>\n",
       "      <th>primaryName_Director</th>\n",
       "      <th>birthYear_Director</th>\n",
       "      <th>deathYear</th>\n",
       "      <th>primaryProfession_director</th>\n",
       "      <th>Dir_knownForTitles</th>\n",
       "      <th>Age_of_movie</th>\n",
       "      <th>Director_age</th>\n",
       "      <th>Decade</th>\n",
       "    </tr>\n",
       "  </thead>\n",
       "  <tbody>\n",
       "    <tr>\n",
       "      <th>0</th>\n",
       "      <td>tt0000019</td>\n",
       "      <td>The Clown Barber</td>\n",
       "      <td>GB</td>\n",
       "      <td>short</td>\n",
       "      <td>1898</td>\n",
       "      <td>Comedy,Short</td>\n",
       "      <td>nm0932055</td>\n",
       "      <td>\\N</td>\n",
       "      <td>5.3</td>\n",
       "      <td>19.0</td>\n",
       "      <td>James Williamson</td>\n",
       "      <td>1855</td>\n",
       "      <td>1933</td>\n",
       "      <td>director,cinematographer,writer</td>\n",
       "      <td>tt0132534,tt0000355,tt0000273,tt0465763</td>\n",
       "      <td>123.0</td>\n",
       "      <td>78</td>\n",
       "      <td>D6</td>\n",
       "    </tr>\n",
       "    <tr>\n",
       "      <th>1</th>\n",
       "      <td>tt0271697</td>\n",
       "      <td>Our New Errand Boy</td>\n",
       "      <td>GB</td>\n",
       "      <td>short</td>\n",
       "      <td>1905</td>\n",
       "      <td>Comedy,Short</td>\n",
       "      <td>nm0932055</td>\n",
       "      <td>\\N</td>\n",
       "      <td>5.4</td>\n",
       "      <td>98.0</td>\n",
       "      <td>James Williamson</td>\n",
       "      <td>1855</td>\n",
       "      <td>1933</td>\n",
       "      <td>director,cinematographer,writer</td>\n",
       "      <td>tt0132534,tt0000355,tt0000273,tt0465763</td>\n",
       "      <td>116.0</td>\n",
       "      <td>78</td>\n",
       "      <td>D6</td>\n",
       "    </tr>\n",
       "    <tr>\n",
       "      <th>2</th>\n",
       "      <td>tt0274177</td>\n",
       "      <td>Two Naughty Boys Teasing the Cobbler</td>\n",
       "      <td>GB</td>\n",
       "      <td>short</td>\n",
       "      <td>1898</td>\n",
       "      <td>Comedy,Short</td>\n",
       "      <td>nm0932055</td>\n",
       "      <td>nm0932055</td>\n",
       "      <td>4.4</td>\n",
       "      <td>7.0</td>\n",
       "      <td>James Williamson</td>\n",
       "      <td>1855</td>\n",
       "      <td>1933</td>\n",
       "      <td>director,cinematographer,writer</td>\n",
       "      <td>tt0132534,tt0000355,tt0000273,tt0465763</td>\n",
       "      <td>123.0</td>\n",
       "      <td>78</td>\n",
       "      <td>D6</td>\n",
       "    </tr>\n",
       "    <tr>\n",
       "      <th>3</th>\n",
       "      <td>tt0308848</td>\n",
       "      <td>Saved by a Dream</td>\n",
       "      <td>GB</td>\n",
       "      <td>short</td>\n",
       "      <td>1909</td>\n",
       "      <td>Drama,Short</td>\n",
       "      <td>nm0932055</td>\n",
       "      <td>\\N</td>\n",
       "      <td>6.3</td>\n",
       "      <td>6.0</td>\n",
       "      <td>James Williamson</td>\n",
       "      <td>1855</td>\n",
       "      <td>1933</td>\n",
       "      <td>director,cinematographer,writer</td>\n",
       "      <td>tt0132534,tt0000355,tt0000273,tt0465763</td>\n",
       "      <td>112.0</td>\n",
       "      <td>78</td>\n",
       "      <td>D6</td>\n",
       "    </tr>\n",
       "    <tr>\n",
       "      <th>4</th>\n",
       "      <td>tt0454320</td>\n",
       "      <td>£100 Reward</td>\n",
       "      <td>GB</td>\n",
       "      <td>short</td>\n",
       "      <td>1908</td>\n",
       "      <td>Drama,Short</td>\n",
       "      <td>nm0932055</td>\n",
       "      <td>\\N</td>\n",
       "      <td>5.3</td>\n",
       "      <td>12.0</td>\n",
       "      <td>James Williamson</td>\n",
       "      <td>1855</td>\n",
       "      <td>1933</td>\n",
       "      <td>director,cinematographer,writer</td>\n",
       "      <td>tt0132534,tt0000355,tt0000273,tt0465763</td>\n",
       "      <td>113.0</td>\n",
       "      <td>78</td>\n",
       "      <td>D6</td>\n",
       "    </tr>\n",
       "  </tbody>\n",
       "</table>\n",
       "</div>"
      ],
      "text/plain": [
       "     titleId                                 title region titleType  \\\n",
       "0  tt0000019                      The Clown Barber     GB     short   \n",
       "1  tt0271697                    Our New Errand Boy     GB     short   \n",
       "2  tt0274177  Two Naughty Boys Teasing the Cobbler     GB     short   \n",
       "3  tt0308848                      Saved by a Dream     GB     short   \n",
       "4  tt0454320                           £100 Reward     GB     short   \n",
       "\n",
       "   startYear        genres  directors    writers  AveRating  Num_of_Votes  \\\n",
       "0       1898  Comedy,Short  nm0932055         \\N        5.3          19.0   \n",
       "1       1905  Comedy,Short  nm0932055         \\N        5.4          98.0   \n",
       "2       1898  Comedy,Short  nm0932055  nm0932055        4.4           7.0   \n",
       "3       1909   Drama,Short  nm0932055         \\N        6.3           6.0   \n",
       "4       1908   Drama,Short  nm0932055         \\N        5.3          12.0   \n",
       "\n",
       "  primaryName_Director  birthYear_Director  deathYear  \\\n",
       "0     James Williamson                1855       1933   \n",
       "1     James Williamson                1855       1933   \n",
       "2     James Williamson                1855       1933   \n",
       "3     James Williamson                1855       1933   \n",
       "4     James Williamson                1855       1933   \n",
       "\n",
       "        primaryProfession_director                       Dir_knownForTitles  \\\n",
       "0  director,cinematographer,writer  tt0132534,tt0000355,tt0000273,tt0465763   \n",
       "1  director,cinematographer,writer  tt0132534,tt0000355,tt0000273,tt0465763   \n",
       "2  director,cinematographer,writer  tt0132534,tt0000355,tt0000273,tt0465763   \n",
       "3  director,cinematographer,writer  tt0132534,tt0000355,tt0000273,tt0465763   \n",
       "4  director,cinematographer,writer  tt0132534,tt0000355,tt0000273,tt0465763   \n",
       "\n",
       "   Age_of_movie  Director_age Decade  \n",
       "0         123.0            78     D6  \n",
       "1         116.0            78     D6  \n",
       "2         123.0            78     D6  \n",
       "3         112.0            78     D6  \n",
       "4         113.0            78     D6  "
      ]
     },
     "execution_count": 27,
     "metadata": {},
     "output_type": "execute_result"
    }
   ],
   "source": [
    "import numpy as np\n",
    "#for (columnName, columnData) in IMDB_data_NoDup.iteritems():\n",
    "    #print()\n",
    "    #print(columnData['Age_of_movie'])\n",
    "    #if columnName == 'Age_of_movie':\n",
    "#age = IMDB_data_NoDup['Age_of_movie']\n",
    "#age.unique()\n",
    "\n",
    "\n",
    "\n",
    "conditions = [\n",
    "    # (IMDB_data_NoDup['Age_of_movie'].ndim == 0),\n",
    "     (IMDB_data_NoDup['Age_of_movie'] <= 1),\n",
    "     (IMDB_data_NoDup['Age_of_movie'] > 1) & (IMDB_data_NoDup['Age_of_movie'] <= 10), \n",
    "     (IMDB_data_NoDup['Age_of_movie'] > 10) & (IMDB_data_NoDup[ 'Age_of_movie'] <= 25),\n",
    "     (IMDB_data_NoDup['Age_of_movie'] > 25) & (IMDB_data_NoDup['Age_of_movie'] <= 50),\n",
    "     (IMDB_data_NoDup['Age_of_movie'] > 50) & (IMDB_data_NoDup['Age_of_movie'] <= 75),\n",
    "     (IMDB_data_NoDup['Age_of_movie'] > 75) & (IMDB_data_NoDup['Age_of_movie'] <= 100),\n",
    "     (IMDB_data_NoDup['Age_of_movie'] > 100) & (IMDB_data_NoDup['Age_of_movie'] <= 125),\n",
    "     (IMDB_data_NoDup['Age_of_movie'] > 125) & (IMDB_data_NoDup['Age_of_movie']<= 150),\n",
    "     (IMDB_data_NoDup['Age_of_movie'] > 150)]\n",
    "\n",
    "# create a list of the values we want to assign for each condition\n",
    "values = ['D0','D1', 'D2', 'D3', 'D4', 'D5', 'D6', 'D7', 'D8']\n",
    "\n",
    "IMDB_data_NoDup['Decade']  = np.select(conditions, values) \n",
    "\n",
    "IMDB_data_NoDup.head()\n",
    "    "
   ]
  },
  {
   "cell_type": "code",
   "execution_count": 28,
   "metadata": {
    "colab": {
     "base_uri": "https://localhost:8080/"
    },
    "id": "Y0aoso6gQTH4",
    "outputId": "ac005c32-4d4f-4d41-e0a0-638f284e808e"
   },
   "outputs": [
    {
     "data": {
      "text/plain": [
       "(5000, 18)"
      ]
     },
     "execution_count": 28,
     "metadata": {},
     "output_type": "execute_result"
    }
   ],
   "source": [
    "IMDB_data_NoDup.shape"
   ]
  },
  {
   "cell_type": "code",
   "execution_count": 29,
   "metadata": {
    "colab": {
     "base_uri": "https://localhost:8080/"
    },
    "id": "rYf7lWcUQTH4",
    "outputId": "3b870718-a9c4-48cc-e4e2-b0fa58294c2a"
   },
   "outputs": [
    {
     "data": {
      "text/plain": [
       "D5    2200\n",
       "D6    1962\n",
       "D4     753\n",
       "D7      55\n",
       "D3      21\n",
       "D1       6\n",
       "D2       3\n",
       "Name: Decade, dtype: int64"
      ]
     },
     "execution_count": 29,
     "metadata": {},
     "output_type": "execute_result"
    }
   ],
   "source": [
    "IMDB_data_NoDup['Decade'].value_counts()"
   ]
  },
  {
   "cell_type": "code",
   "execution_count": 30,
   "metadata": {
    "colab": {
     "base_uri": "https://localhost:8080/",
     "height": 69
    },
    "id": "dwsh8ajDQTH5",
    "outputId": "9f64ec2b-2352-4ec0-a737-c518b2320172"
   },
   "outputs": [
    {
     "data": {
      "text/html": [
       "<div>\n",
       "<style scoped>\n",
       "    .dataframe tbody tr th:only-of-type {\n",
       "        vertical-align: middle;\n",
       "    }\n",
       "\n",
       "    .dataframe tbody tr th {\n",
       "        vertical-align: top;\n",
       "    }\n",
       "\n",
       "    .dataframe thead th {\n",
       "        text-align: right;\n",
       "    }\n",
       "</style>\n",
       "<table border=\"1\" class=\"dataframe\">\n",
       "  <thead>\n",
       "    <tr style=\"text-align: right;\">\n",
       "      <th></th>\n",
       "      <th>titleId</th>\n",
       "      <th>title</th>\n",
       "      <th>region</th>\n",
       "      <th>titleType</th>\n",
       "      <th>startYear</th>\n",
       "      <th>genres</th>\n",
       "      <th>directors</th>\n",
       "      <th>writers</th>\n",
       "      <th>AveRating</th>\n",
       "      <th>Num_of_Votes</th>\n",
       "      <th>primaryName_Director</th>\n",
       "      <th>birthYear_Director</th>\n",
       "      <th>deathYear</th>\n",
       "      <th>primaryProfession_director</th>\n",
       "      <th>Dir_knownForTitles</th>\n",
       "      <th>Age_of_movie</th>\n",
       "      <th>Director_age</th>\n",
       "      <th>Decade</th>\n",
       "    </tr>\n",
       "  </thead>\n",
       "  <tbody>\n",
       "  </tbody>\n",
       "</table>\n",
       "</div>"
      ],
      "text/plain": [
       "Empty DataFrame\n",
       "Columns: [titleId, title, region, titleType, startYear, genres, directors, writers, AveRating, Num_of_Votes, primaryName_Director, birthYear_Director, deathYear, primaryProfession_director, Dir_knownForTitles, Age_of_movie, Director_age, Decade]\n",
       "Index: []"
      ]
     },
     "execution_count": 30,
     "metadata": {},
     "output_type": "execute_result"
    }
   ],
   "source": [
    "IMDB_data_NoDup[IMDB_data_NoDup['Decade'] == '0']"
   ]
  },
  {
   "cell_type": "code",
   "execution_count": 31,
   "metadata": {
    "id": "fBzZpbZDQTH5"
   },
   "outputs": [],
   "source": [
    "#IMDB_data_NoDup['Genre','TitleType2'] = IMDB_data_NoDup.genres.str.split(\",\", expand=True)\n",
    "#df[['First','Last']] = df.Name.str.split(\"_\",expand=True)\n",
    "#IMDB_data_NoDup['First','Last'] = IMDB_data_NoDup.genres.apply(lambda x: pd.Series(str(x).split(\",\")))\n",
    "#IMDB_data_NoDup.head()"
   ]
  },
  {
   "cell_type": "code",
   "execution_count": 32,
   "metadata": {
    "colab": {
     "base_uri": "https://localhost:8080/"
    },
    "id": "BpqzZ51HQTH5",
    "outputId": "c6453b9e-4bec-4bb3-b2a3-d268dfd79b8b"
   },
   "outputs": [
    {
     "name": "stdout",
     "output_type": "stream",
     "text": [
      "<class 'pandas.core.frame.DataFrame'>\n",
      "RangeIndex: 5000 entries, 0 to 4999\n",
      "Data columns (total 18 columns):\n",
      " #   Column                      Non-Null Count  Dtype  \n",
      "---  ------                      --------------  -----  \n",
      " 0   titleId                     5000 non-null   object \n",
      " 1   title                       5000 non-null   object \n",
      " 2   region                      5000 non-null   object \n",
      " 3   titleType                   5000 non-null   object \n",
      " 4   startYear                   5000 non-null   Int64  \n",
      " 5   genres                      5000 non-null   object \n",
      " 6   directors                   5000 non-null   object \n",
      " 7   writers                     5000 non-null   object \n",
      " 8   AveRating                   5000 non-null   float64\n",
      " 9   Num_of_Votes                5000 non-null   float64\n",
      " 10  primaryName_Director        5000 non-null   object \n",
      " 11  birthYear_Director          4910 non-null   Int64  \n",
      " 12  deathYear                   4901 non-null   Int64  \n",
      " 13  primaryProfession_director  5000 non-null   object \n",
      " 14  Dir_knownForTitles          5000 non-null   object \n",
      " 15  Age_of_movie                5000 non-null   float64\n",
      " 16  Director_age                4890 non-null   Int64  \n",
      " 17  Decade                      5000 non-null   object \n",
      "dtypes: Int64(4), float64(3), object(11)\n",
      "memory usage: 722.8+ KB\n"
     ]
    }
   ],
   "source": [
    "IMDB_data_NoDup.info()"
   ]
  },
  {
   "cell_type": "code",
   "execution_count": 33,
   "metadata": {
    "id": "MfqMvAsXQTH6"
   },
   "outputs": [],
   "source": [
    "#IMDB_data_NoDup[IMDB_data_NoDup['birthYear_Director']]"
   ]
  },
  {
   "cell_type": "code",
   "execution_count": 34,
   "metadata": {
    "id": "UHA8jiAnQTH6"
   },
   "outputs": [],
   "source": [
    "#IMDB_data_NoDup_cat = IMDB_data_NoDup.select_dtypes(include = 'object').copy()\n",
    "#IMDB_data_NoDup_cat.head(2)"
   ]
  },
  {
   "cell_type": "code",
   "execution_count": 35,
   "metadata": {
    "colab": {
     "base_uri": "https://localhost:8080/"
    },
    "id": "TKM7OosXQTH6",
    "outputId": "622579c7-bc83-43b2-e243-52cb53538c19"
   },
   "outputs": [
    {
     "name": "stdout",
     "output_type": "stream",
     "text": [
      "299\n"
     ]
    }
   ],
   "source": [
    "print(IMDB_data_NoDup.isnull().values.sum())"
   ]
  },
  {
   "cell_type": "code",
   "execution_count": 36,
   "metadata": {
    "colab": {
     "base_uri": "https://localhost:8080/"
    },
    "id": "Rimz6j1PQTH6",
    "outputId": "13781b08-9627-4586-e5f6-d5331c6271c0"
   },
   "outputs": [
    {
     "name": "stdout",
     "output_type": "stream",
     "text": [
      "titleId                         0\n",
      "title                           0\n",
      "region                          0\n",
      "titleType                       0\n",
      "startYear                       0\n",
      "genres                          0\n",
      "directors                       0\n",
      "writers                         0\n",
      "AveRating                       0\n",
      "Num_of_Votes                    0\n",
      "primaryName_Director            0\n",
      "birthYear_Director             90\n",
      "deathYear                      99\n",
      "primaryProfession_director      0\n",
      "Dir_knownForTitles              0\n",
      "Age_of_movie                    0\n",
      "Director_age                  110\n",
      "Decade                          0\n",
      "dtype: int64\n"
     ]
    }
   ],
   "source": [
    "print(IMDB_data_NoDup.isnull().sum())"
   ]
  },
  {
   "cell_type": "markdown",
   "metadata": {
    "id": "RszHNbFWQTH6"
   },
   "source": [
    " IMDB_data_NoDup.fillna(IMDB_data_NoDup['primaryProfession_director'].value_counts().index[0])"
   ]
  },
  {
   "cell_type": "code",
   "execution_count": 37,
   "metadata": {
    "colab": {
     "base_uri": "https://localhost:8080/"
    },
    "id": "ix6bIlu_QTH7",
    "outputId": "2d149ea0-039a-4c0c-bff3-f53641fd66db"
   },
   "outputs": [
    {
     "name": "stdout",
     "output_type": "stream",
     "text": [
      "299\n"
     ]
    }
   ],
   "source": [
    "print(IMDB_data_NoDup.isnull().values.sum())"
   ]
  },
  {
   "cell_type": "code",
   "execution_count": 38,
   "metadata": {
    "colab": {
     "base_uri": "https://localhost:8080/"
    },
    "id": "Ni6IqbjzQTH7",
    "outputId": "2283bca2-d97c-4f80-db32-c7b343e7427d",
    "scrolled": true
   },
   "outputs": [
    {
     "data": {
      "text/plain": [
       "title                         startYear  primaryName_Director  birthYear_Director\n",
       "Metro Movietone Revue         1930       Nick Grinde           1893                  2\n",
       "Old Glory and the Cuban Flag  1898       William Heise         1847                  2\n",
       "American Flag                 1898       William Heise         1847                  2\n",
       "Screen Snapshots              1932       Ralph Staub           1899                  2\n",
       "Metro Movietone Revue         1929       Nick Grinde           1893                  2\n",
       "                                                                                    ..\n",
       "He and She                    1898       William K.L. Dickson  1860                  1\n",
       "He Was Her Man                1937       Friz Freleng          1904                  1\n",
       "He Forgot to Remember         1944       Hal Yates             1899                  1\n",
       "Hazafelé                      1940       Arzén von Cserépy     1881                  1\n",
       "Üzenet a Volgapartról         1942       Alfréd Deésy          1877                  1\n",
       "Length: 4905, dtype: int64"
      ]
     },
     "execution_count": 38,
     "metadata": {},
     "output_type": "execute_result"
    }
   ],
   "source": [
    "DF_uniquevalue = IMDB_data_NoDup.value_counts([\"title\", \"startYear\", \"primaryName_Director\", \"birthYear_Director\" ]) \n",
    "DF_uniquevalue                                                        #selection of dropping column"
   ]
  },
  {
   "cell_type": "code",
   "execution_count": null,
   "metadata": {
    "id": "75NCUfHkQTH7"
   },
   "outputs": [],
   "source": []
  },
  {
   "cell_type": "code",
   "execution_count": 39,
   "metadata": {
    "id": "c16LQVejQTH8"
   },
   "outputs": [],
   "source": [
    "#IMDB_data_NoDup[IMDB_data_NoDup.duplicated()]\n",
    "#print(duplicateDFRow)"
   ]
  },
  {
   "cell_type": "code",
   "execution_count": 40,
   "metadata": {
    "colab": {
     "base_uri": "https://localhost:8080/",
     "height": 447
    },
    "id": "i-bzeDVxQTH8",
    "outputId": "a6c17fed-c529-470b-aa50-5ff15c154749"
   },
   "outputs": [
    {
     "data": {
      "text/html": [
       "<div>\n",
       "<style scoped>\n",
       "    .dataframe tbody tr th:only-of-type {\n",
       "        vertical-align: middle;\n",
       "    }\n",
       "\n",
       "    .dataframe tbody tr th {\n",
       "        vertical-align: top;\n",
       "    }\n",
       "\n",
       "    .dataframe thead th {\n",
       "        text-align: right;\n",
       "    }\n",
       "</style>\n",
       "<table border=\"1\" class=\"dataframe\">\n",
       "  <thead>\n",
       "    <tr style=\"text-align: right;\">\n",
       "      <th></th>\n",
       "      <th>titleId</th>\n",
       "      <th>title</th>\n",
       "      <th>region</th>\n",
       "      <th>titleType</th>\n",
       "      <th>startYear</th>\n",
       "      <th>genres</th>\n",
       "      <th>directors</th>\n",
       "      <th>writers</th>\n",
       "      <th>AveRating</th>\n",
       "      <th>Num_of_Votes</th>\n",
       "      <th>primaryName_Director</th>\n",
       "      <th>birthYear_Director</th>\n",
       "      <th>deathYear</th>\n",
       "      <th>primaryProfession_director</th>\n",
       "      <th>Dir_knownForTitles</th>\n",
       "      <th>Age_of_movie</th>\n",
       "      <th>Director_age</th>\n",
       "      <th>Decade</th>\n",
       "    </tr>\n",
       "  </thead>\n",
       "  <tbody>\n",
       "    <tr>\n",
       "      <th>0</th>\n",
       "      <td>tt0000019</td>\n",
       "      <td>The Clown Barber</td>\n",
       "      <td>GB</td>\n",
       "      <td>short</td>\n",
       "      <td>1898</td>\n",
       "      <td>Comedy,Short</td>\n",
       "      <td>nm0932055</td>\n",
       "      <td>\\N</td>\n",
       "      <td>5.3</td>\n",
       "      <td>19.0</td>\n",
       "      <td>James Williamson</td>\n",
       "      <td>1855</td>\n",
       "      <td>1933</td>\n",
       "      <td>director,cinematographer,writer</td>\n",
       "      <td>tt0132534,tt0000355,tt0000273,tt0465763</td>\n",
       "      <td>123.0</td>\n",
       "      <td>78</td>\n",
       "      <td>D6</td>\n",
       "    </tr>\n",
       "    <tr>\n",
       "      <th>1</th>\n",
       "      <td>tt0271697</td>\n",
       "      <td>Our New Errand Boy</td>\n",
       "      <td>GB</td>\n",
       "      <td>short</td>\n",
       "      <td>1905</td>\n",
       "      <td>Comedy,Short</td>\n",
       "      <td>nm0932055</td>\n",
       "      <td>\\N</td>\n",
       "      <td>5.4</td>\n",
       "      <td>98.0</td>\n",
       "      <td>James Williamson</td>\n",
       "      <td>1855</td>\n",
       "      <td>1933</td>\n",
       "      <td>director,cinematographer,writer</td>\n",
       "      <td>tt0132534,tt0000355,tt0000273,tt0465763</td>\n",
       "      <td>116.0</td>\n",
       "      <td>78</td>\n",
       "      <td>D6</td>\n",
       "    </tr>\n",
       "    <tr>\n",
       "      <th>2</th>\n",
       "      <td>tt0274177</td>\n",
       "      <td>Two Naughty Boys Teasing the Cobbler</td>\n",
       "      <td>GB</td>\n",
       "      <td>short</td>\n",
       "      <td>1898</td>\n",
       "      <td>Comedy,Short</td>\n",
       "      <td>nm0932055</td>\n",
       "      <td>nm0932055</td>\n",
       "      <td>4.4</td>\n",
       "      <td>7.0</td>\n",
       "      <td>James Williamson</td>\n",
       "      <td>1855</td>\n",
       "      <td>1933</td>\n",
       "      <td>director,cinematographer,writer</td>\n",
       "      <td>tt0132534,tt0000355,tt0000273,tt0465763</td>\n",
       "      <td>123.0</td>\n",
       "      <td>78</td>\n",
       "      <td>D6</td>\n",
       "    </tr>\n",
       "    <tr>\n",
       "      <th>3</th>\n",
       "      <td>tt0308848</td>\n",
       "      <td>Saved by a Dream</td>\n",
       "      <td>GB</td>\n",
       "      <td>short</td>\n",
       "      <td>1909</td>\n",
       "      <td>Drama,Short</td>\n",
       "      <td>nm0932055</td>\n",
       "      <td>\\N</td>\n",
       "      <td>6.3</td>\n",
       "      <td>6.0</td>\n",
       "      <td>James Williamson</td>\n",
       "      <td>1855</td>\n",
       "      <td>1933</td>\n",
       "      <td>director,cinematographer,writer</td>\n",
       "      <td>tt0132534,tt0000355,tt0000273,tt0465763</td>\n",
       "      <td>112.0</td>\n",
       "      <td>78</td>\n",
       "      <td>D6</td>\n",
       "    </tr>\n",
       "    <tr>\n",
       "      <th>4</th>\n",
       "      <td>tt0454320</td>\n",
       "      <td>£100 Reward</td>\n",
       "      <td>GB</td>\n",
       "      <td>short</td>\n",
       "      <td>1908</td>\n",
       "      <td>Drama,Short</td>\n",
       "      <td>nm0932055</td>\n",
       "      <td>\\N</td>\n",
       "      <td>5.3</td>\n",
       "      <td>12.0</td>\n",
       "      <td>James Williamson</td>\n",
       "      <td>1855</td>\n",
       "      <td>1933</td>\n",
       "      <td>director,cinematographer,writer</td>\n",
       "      <td>tt0132534,tt0000355,tt0000273,tt0465763</td>\n",
       "      <td>113.0</td>\n",
       "      <td>78</td>\n",
       "      <td>D6</td>\n",
       "    </tr>\n",
       "  </tbody>\n",
       "</table>\n",
       "</div>"
      ],
      "text/plain": [
       "     titleId                                 title region titleType  \\\n",
       "0  tt0000019                      The Clown Barber     GB     short   \n",
       "1  tt0271697                    Our New Errand Boy     GB     short   \n",
       "2  tt0274177  Two Naughty Boys Teasing the Cobbler     GB     short   \n",
       "3  tt0308848                      Saved by a Dream     GB     short   \n",
       "4  tt0454320                           £100 Reward     GB     short   \n",
       "\n",
       "   startYear        genres  directors    writers  AveRating  Num_of_Votes  \\\n",
       "0       1898  Comedy,Short  nm0932055         \\N        5.3          19.0   \n",
       "1       1905  Comedy,Short  nm0932055         \\N        5.4          98.0   \n",
       "2       1898  Comedy,Short  nm0932055  nm0932055        4.4           7.0   \n",
       "3       1909   Drama,Short  nm0932055         \\N        6.3           6.0   \n",
       "4       1908   Drama,Short  nm0932055         \\N        5.3          12.0   \n",
       "\n",
       "  primaryName_Director  birthYear_Director  deathYear  \\\n",
       "0     James Williamson                1855       1933   \n",
       "1     James Williamson                1855       1933   \n",
       "2     James Williamson                1855       1933   \n",
       "3     James Williamson                1855       1933   \n",
       "4     James Williamson                1855       1933   \n",
       "\n",
       "        primaryProfession_director                       Dir_knownForTitles  \\\n",
       "0  director,cinematographer,writer  tt0132534,tt0000355,tt0000273,tt0465763   \n",
       "1  director,cinematographer,writer  tt0132534,tt0000355,tt0000273,tt0465763   \n",
       "2  director,cinematographer,writer  tt0132534,tt0000355,tt0000273,tt0465763   \n",
       "3  director,cinematographer,writer  tt0132534,tt0000355,tt0000273,tt0465763   \n",
       "4  director,cinematographer,writer  tt0132534,tt0000355,tt0000273,tt0465763   \n",
       "\n",
       "   Age_of_movie  Director_age Decade  \n",
       "0         123.0            78     D6  \n",
       "1         116.0            78     D6  \n",
       "2         123.0            78     D6  \n",
       "3         112.0            78     D6  \n",
       "4         113.0            78     D6  "
      ]
     },
     "execution_count": 40,
     "metadata": {},
     "output_type": "execute_result"
    }
   ],
   "source": [
    "IMDB_data_NoDup = IMDB_data_NoDup.drop_duplicates(subset=[\"title\", \"startYear\", \"primaryName_Director\", \"birthYear_Director\"])\n",
    "IMDB_data_NoDup.head()"
   ]
  },
  {
   "cell_type": "code",
   "execution_count": 41,
   "metadata": {
    "colab": {
     "base_uri": "https://localhost:8080/"
    },
    "id": "Y9I3rxq_QTH8",
    "outputId": "6b8f4c18-1aad-4aa2-d24b-8f5b4e6692bc"
   },
   "outputs": [
    {
     "data": {
      "text/plain": [
       "(4995, 18)"
      ]
     },
     "execution_count": 41,
     "metadata": {},
     "output_type": "execute_result"
    }
   ],
   "source": [
    "IMDB_data_NoDup.shape"
   ]
  },
  {
   "cell_type": "code",
   "execution_count": 42,
   "metadata": {
    "colab": {
     "base_uri": "https://localhost:8080/",
     "height": 69
    },
    "id": "XjE3eMPyQTH8",
    "outputId": "0e2c900b-5a08-4c75-ab2a-d3f164dea96a"
   },
   "outputs": [
    {
     "data": {
      "text/html": [
       "<div>\n",
       "<style scoped>\n",
       "    .dataframe tbody tr th:only-of-type {\n",
       "        vertical-align: middle;\n",
       "    }\n",
       "\n",
       "    .dataframe tbody tr th {\n",
       "        vertical-align: top;\n",
       "    }\n",
       "\n",
       "    .dataframe thead th {\n",
       "        text-align: right;\n",
       "    }\n",
       "</style>\n",
       "<table border=\"1\" class=\"dataframe\">\n",
       "  <thead>\n",
       "    <tr style=\"text-align: right;\">\n",
       "      <th></th>\n",
       "      <th>titleId</th>\n",
       "      <th>title</th>\n",
       "      <th>region</th>\n",
       "      <th>titleType</th>\n",
       "      <th>startYear</th>\n",
       "      <th>genres</th>\n",
       "      <th>directors</th>\n",
       "      <th>writers</th>\n",
       "      <th>AveRating</th>\n",
       "      <th>Num_of_Votes</th>\n",
       "      <th>primaryName_Director</th>\n",
       "      <th>birthYear_Director</th>\n",
       "      <th>deathYear</th>\n",
       "      <th>primaryProfession_director</th>\n",
       "      <th>Dir_knownForTitles</th>\n",
       "      <th>Age_of_movie</th>\n",
       "      <th>Director_age</th>\n",
       "      <th>Decade</th>\n",
       "    </tr>\n",
       "  </thead>\n",
       "  <tbody>\n",
       "  </tbody>\n",
       "</table>\n",
       "</div>"
      ],
      "text/plain": [
       "Empty DataFrame\n",
       "Columns: [titleId, title, region, titleType, startYear, genres, directors, writers, AveRating, Num_of_Votes, primaryName_Director, birthYear_Director, deathYear, primaryProfession_director, Dir_knownForTitles, Age_of_movie, Director_age, Decade]\n",
       "Index: []"
      ]
     },
     "execution_count": 42,
     "metadata": {},
     "output_type": "execute_result"
    }
   ],
   "source": [
    "Ver_dup = IMDB_data_NoDup[IMDB_data_NoDup['title'] == \"Pilot\"]\n",
    "Ver_dup"
   ]
  },
  {
   "cell_type": "code",
   "execution_count": 43,
   "metadata": {
    "id": "tOStO-vLQTH8"
   },
   "outputs": [],
   "source": [
    "#a = IMDB_data_NoDup[IMDB_data_NoDup['startYear'] == 1968]\n",
    "\n",
    "#a = a[a['title'] == 'Pilot']\n",
    "#a\n",
    "#a.value_counts([\"title\", \"startYear\" , \"primaryName_Director\", \"birthYear_Director\"])"
   ]
  },
  {
   "cell_type": "code",
   "execution_count": 44,
   "metadata": {
    "colab": {
     "base_uri": "https://localhost:8080/"
    },
    "id": "tZJqMPbTQTH9",
    "outputId": "b0540316-2236-4d39-d08a-9bf40e655ff3"
   },
   "outputs": [
    {
     "data": {
      "text/plain": [
       "4934"
      ]
     },
     "execution_count": 44,
     "metadata": {},
     "output_type": "execute_result"
    }
   ],
   "source": [
    "IMDB_data_NoDup['title'].value_counts().count()"
   ]
  },
  {
   "cell_type": "code",
   "execution_count": 45,
   "metadata": {
    "colab": {
     "base_uri": "https://localhost:8080/"
    },
    "id": "QHblBprrQTH9",
    "outputId": "7bee466e-fdbf-4326-a68e-30a62b6e52d8"
   },
   "outputs": [
    {
     "name": "stdout",
     "output_type": "stream",
     "text": [
      "<class 'pandas.core.frame.DataFrame'>\n",
      "Int64Index: 4995 entries, 0 to 4999\n",
      "Data columns (total 18 columns):\n",
      " #   Column                      Non-Null Count  Dtype  \n",
      "---  ------                      --------------  -----  \n",
      " 0   titleId                     4995 non-null   object \n",
      " 1   title                       4995 non-null   object \n",
      " 2   region                      4995 non-null   object \n",
      " 3   titleType                   4995 non-null   object \n",
      " 4   startYear                   4995 non-null   Int64  \n",
      " 5   genres                      4995 non-null   object \n",
      " 6   directors                   4995 non-null   object \n",
      " 7   writers                     4995 non-null   object \n",
      " 8   AveRating                   4995 non-null   float64\n",
      " 9   Num_of_Votes                4995 non-null   float64\n",
      " 10  primaryName_Director        4995 non-null   object \n",
      " 11  birthYear_Director          4905 non-null   Int64  \n",
      " 12  deathYear                   4896 non-null   Int64  \n",
      " 13  primaryProfession_director  4995 non-null   object \n",
      " 14  Dir_knownForTitles          4995 non-null   object \n",
      " 15  Age_of_movie                4995 non-null   float64\n",
      " 16  Director_age                4885 non-null   Int64  \n",
      " 17  Decade                      4995 non-null   object \n",
      "dtypes: Int64(4), float64(3), object(11)\n",
      "memory usage: 761.0+ KB\n"
     ]
    }
   ],
   "source": [
    "IMDB_data_NoDup.info()"
   ]
  },
  {
   "cell_type": "code",
   "execution_count": 46,
   "metadata": {
    "colab": {
     "base_uri": "https://localhost:8080/"
    },
    "id": "nOETfg3AQTH9",
    "outputId": "73b94a40-1804-48a5-d30a-20cc7156fdd2"
   },
   "outputs": [
    {
     "name": "stdout",
     "output_type": "stream",
     "text": [
      "titleId                         0\n",
      "title                           0\n",
      "region                          0\n",
      "titleType                       0\n",
      "startYear                       0\n",
      "genres                          0\n",
      "directors                       0\n",
      "writers                         0\n",
      "AveRating                       0\n",
      "Num_of_Votes                    0\n",
      "primaryName_Director            0\n",
      "birthYear_Director             90\n",
      "deathYear                      99\n",
      "primaryProfession_director      0\n",
      "Dir_knownForTitles              0\n",
      "Age_of_movie                    0\n",
      "Director_age                  110\n",
      "Decade                          0\n",
      "dtype: int64\n"
     ]
    }
   ],
   "source": [
    "print(IMDB_data_NoDup.isnull().sum())"
   ]
  },
  {
   "cell_type": "code",
   "execution_count": 47,
   "metadata": {
    "colab": {
     "base_uri": "https://localhost:8080/"
    },
    "id": "u81312qYQTH-",
    "outputId": "74548482-66d5-41fc-fc7d-b8bf5ac6bfc7"
   },
   "outputs": [
    {
     "data": {
      "text/plain": [
       "(0, 18)"
      ]
     },
     "execution_count": 47,
     "metadata": {},
     "output_type": "execute_result"
    }
   ],
   "source": [
    "b = IMDB_data_NoDup[IMDB_data_NoDup['title'] == \"Pilot\"]                       # Checking pilot(duplicate)\n",
    "b.shape"
   ]
  },
  {
   "cell_type": "code",
   "execution_count": 48,
   "metadata": {
    "id": "LTgtIdOeQTH-"
   },
   "outputs": [],
   "source": [
    "IMDB_data_NoDup_copy = IMDB_data_NoDup.copy()"
   ]
  },
  {
   "cell_type": "code",
   "execution_count": 49,
   "metadata": {
    "colab": {
     "base_uri": "https://localhost:8080/"
    },
    "id": "qQTYLr2gQTH-",
    "outputId": "b871ab6b-2c98-4eba-ec3c-4a73ffcd0dbe"
   },
   "outputs": [
    {
     "name": "stdout",
     "output_type": "stream",
     "text": [
      "<class 'pandas.core.frame.DataFrame'>\n",
      "Int64Index: 4995 entries, 0 to 4999\n",
      "Data columns (total 18 columns):\n",
      " #   Column                      Non-Null Count  Dtype  \n",
      "---  ------                      --------------  -----  \n",
      " 0   titleId                     4995 non-null   object \n",
      " 1   title                       4995 non-null   object \n",
      " 2   region                      4995 non-null   object \n",
      " 3   titleType                   4995 non-null   object \n",
      " 4   startYear                   4995 non-null   Int64  \n",
      " 5   genres                      4995 non-null   object \n",
      " 6   directors                   4995 non-null   object \n",
      " 7   writers                     4995 non-null   object \n",
      " 8   AveRating                   4995 non-null   float64\n",
      " 9   Num_of_Votes                4995 non-null   float64\n",
      " 10  primaryName_Director        4995 non-null   object \n",
      " 11  birthYear_Director          4905 non-null   Int64  \n",
      " 12  deathYear                   4896 non-null   Int64  \n",
      " 13  primaryProfession_director  4995 non-null   object \n",
      " 14  Dir_knownForTitles          4995 non-null   object \n",
      " 15  Age_of_movie                4995 non-null   float64\n",
      " 16  Director_age                4885 non-null   Int64  \n",
      " 17  Decade                      4995 non-null   object \n",
      "dtypes: Int64(4), float64(3), object(11)\n",
      "memory usage: 761.0+ KB\n"
     ]
    }
   ],
   "source": [
    "IMDB_data_NoDup_copy.info()"
   ]
  },
  {
   "cell_type": "code",
   "execution_count": 50,
   "metadata": {
    "id": "VqeYkZJAQTH-"
   },
   "outputs": [],
   "source": [
    "#for v in IMDB_data_NoDup_copy['startYear'].notnull():\n",
    "    #print(v)\n",
    "    "
   ]
  },
  {
   "cell_type": "code",
   "execution_count": 51,
   "metadata": {
    "colab": {
     "base_uri": "https://localhost:8080/"
    },
    "id": "HwE28sgmQTH-",
    "outputId": "cda80698-1e38-4dc1-a454-2d5149946547"
   },
   "outputs": [
    {
     "data": {
      "text/plain": [
       "titleId                         0\n",
       "title                           0\n",
       "region                          0\n",
       "titleType                       0\n",
       "startYear                       0\n",
       "genres                          0\n",
       "directors                       0\n",
       "writers                         0\n",
       "AveRating                       0\n",
       "Num_of_Votes                    0\n",
       "primaryName_Director            0\n",
       "birthYear_Director             90\n",
       "deathYear                      99\n",
       "primaryProfession_director      0\n",
       "Dir_knownForTitles              0\n",
       "Age_of_movie                    0\n",
       "Director_age                  110\n",
       "Decade                          0\n",
       "dtype: int64"
      ]
     },
     "execution_count": 51,
     "metadata": {},
     "output_type": "execute_result"
    }
   ],
   "source": [
    "#IMDB_data_NoDup_copy[IMDB_data_NoDup_copy['startYear'].isnull().sum()\n",
    "IMDB_data_NoDup_copy.isnull().sum()"
   ]
  },
  {
   "cell_type": "code",
   "execution_count": 52,
   "metadata": {
    "colab": {
     "base_uri": "https://localhost:8080/"
    },
    "id": "36kZbrtvQTIB",
    "outputId": "62b4a553-1a15-48d3-9c77-b54762991154"
   },
   "outputs": [
    {
     "data": {
      "text/plain": [
       "titleId                       0.000000\n",
       "title                         0.000000\n",
       "region                        0.000000\n",
       "titleType                     0.000000\n",
       "startYear                     0.000000\n",
       "genres                        0.000000\n",
       "directors                     0.000000\n",
       "writers                       0.000000\n",
       "AveRating                     0.000000\n",
       "Num_of_Votes                  0.000000\n",
       "primaryName_Director          0.000000\n",
       "birthYear_Director            1.801802\n",
       "deathYear                     1.981982\n",
       "primaryProfession_director    0.000000\n",
       "Dir_knownForTitles            0.000000\n",
       "Age_of_movie                  0.000000\n",
       "Director_age                  2.202202\n",
       "Decade                        0.000000\n",
       "dtype: float64"
      ]
     },
     "execution_count": 52,
     "metadata": {},
     "output_type": "execute_result"
    }
   ],
   "source": [
    "IMDB_data_NoDup_copy.isna().sum()/(len(IMDB_data_NoDup_copy))*100"
   ]
  },
  {
   "cell_type": "code",
   "execution_count": 53,
   "metadata": {
    "colab": {
     "base_uri": "https://localhost:8080/",
     "height": 69
    },
    "id": "ALGETBeLQTIC",
    "outputId": "49c12054-e26e-4e51-cfbd-b72118b7ad6f"
   },
   "outputs": [
    {
     "data": {
      "text/html": [
       "<div>\n",
       "<style scoped>\n",
       "    .dataframe tbody tr th:only-of-type {\n",
       "        vertical-align: middle;\n",
       "    }\n",
       "\n",
       "    .dataframe tbody tr th {\n",
       "        vertical-align: top;\n",
       "    }\n",
       "\n",
       "    .dataframe thead th {\n",
       "        text-align: right;\n",
       "    }\n",
       "</style>\n",
       "<table border=\"1\" class=\"dataframe\">\n",
       "  <thead>\n",
       "    <tr style=\"text-align: right;\">\n",
       "      <th></th>\n",
       "      <th>titleId</th>\n",
       "      <th>title</th>\n",
       "      <th>region</th>\n",
       "      <th>titleType</th>\n",
       "      <th>startYear</th>\n",
       "      <th>genres</th>\n",
       "      <th>directors</th>\n",
       "      <th>writers</th>\n",
       "      <th>AveRating</th>\n",
       "      <th>Num_of_Votes</th>\n",
       "      <th>primaryName_Director</th>\n",
       "      <th>birthYear_Director</th>\n",
       "      <th>deathYear</th>\n",
       "      <th>primaryProfession_director</th>\n",
       "      <th>Dir_knownForTitles</th>\n",
       "      <th>Age_of_movie</th>\n",
       "      <th>Director_age</th>\n",
       "      <th>Decade</th>\n",
       "    </tr>\n",
       "  </thead>\n",
       "  <tbody>\n",
       "  </tbody>\n",
       "</table>\n",
       "</div>"
      ],
      "text/plain": [
       "Empty DataFrame\n",
       "Columns: [titleId, title, region, titleType, startYear, genres, directors, writers, AveRating, Num_of_Votes, primaryName_Director, birthYear_Director, deathYear, primaryProfession_director, Dir_knownForTitles, Age_of_movie, Director_age, Decade]\n",
       "Index: []"
      ]
     },
     "execution_count": 53,
     "metadata": {},
     "output_type": "execute_result"
    }
   ],
   "source": [
    "IMDB_data_NoDup_copy[IMDB_data_NoDup_copy['startYear'].isnull()].head(2)        # priting Coluumn with null values"
   ]
  },
  {
   "cell_type": "code",
   "execution_count": 54,
   "metadata": {
    "colab": {
     "base_uri": "https://localhost:8080/",
     "height": 338
    },
    "id": "wgQC209wQTIC",
    "outputId": "c95256b1-57c4-4cff-c05b-28c85e401e5a"
   },
   "outputs": [
    {
     "data": {
      "text/html": [
       "<div>\n",
       "<style scoped>\n",
       "    .dataframe tbody tr th:only-of-type {\n",
       "        vertical-align: middle;\n",
       "    }\n",
       "\n",
       "    .dataframe tbody tr th {\n",
       "        vertical-align: top;\n",
       "    }\n",
       "\n",
       "    .dataframe thead th {\n",
       "        text-align: right;\n",
       "    }\n",
       "</style>\n",
       "<table border=\"1\" class=\"dataframe\">\n",
       "  <thead>\n",
       "    <tr style=\"text-align: right;\">\n",
       "      <th></th>\n",
       "      <th>titleId</th>\n",
       "      <th>title</th>\n",
       "      <th>region</th>\n",
       "      <th>titleType</th>\n",
       "      <th>startYear</th>\n",
       "      <th>genres</th>\n",
       "      <th>directors</th>\n",
       "      <th>writers</th>\n",
       "      <th>AveRating</th>\n",
       "      <th>Num_of_Votes</th>\n",
       "      <th>primaryName_Director</th>\n",
       "      <th>birthYear_Director</th>\n",
       "      <th>deathYear</th>\n",
       "      <th>primaryProfession_director</th>\n",
       "      <th>Dir_knownForTitles</th>\n",
       "      <th>Age_of_movie</th>\n",
       "      <th>Director_age</th>\n",
       "      <th>Decade</th>\n",
       "    </tr>\n",
       "  </thead>\n",
       "  <tbody>\n",
       "    <tr>\n",
       "      <th>130</th>\n",
       "      <td>tt0000053</td>\n",
       "      <td>A Chegada do Comboio Inaugural à Estação Centr...</td>\n",
       "      <td>PT</td>\n",
       "      <td>short</td>\n",
       "      <td>1897</td>\n",
       "      <td>Documentary,Short</td>\n",
       "      <td>nm0684607</td>\n",
       "      <td>\\N</td>\n",
       "      <td>2.8</td>\n",
       "      <td>8.0</td>\n",
       "      <td>Francisco Pinto Moreira</td>\n",
       "      <td>&lt;NA&gt;</td>\n",
       "      <td>&lt;NA&gt;</td>\n",
       "      <td>director</td>\n",
       "      <td>tt0138450,tt0000053,tt0138358</td>\n",
       "      <td>124.0</td>\n",
       "      <td>&lt;NA&gt;</td>\n",
       "      <td>D6</td>\n",
       "    </tr>\n",
       "    <tr>\n",
       "      <th>131</th>\n",
       "      <td>tt0138358</td>\n",
       "      <td>A Chegada do Rebocador 'Liberal' ao Porto de L...</td>\n",
       "      <td>PT</td>\n",
       "      <td>short</td>\n",
       "      <td>1897</td>\n",
       "      <td>Documentary,Short</td>\n",
       "      <td>nm0684607</td>\n",
       "      <td>\\N</td>\n",
       "      <td>4.9</td>\n",
       "      <td>7.0</td>\n",
       "      <td>Francisco Pinto Moreira</td>\n",
       "      <td>&lt;NA&gt;</td>\n",
       "      <td>&lt;NA&gt;</td>\n",
       "      <td>director</td>\n",
       "      <td>tt0138450,tt0000053,tt0138358</td>\n",
       "      <td>124.0</td>\n",
       "      <td>&lt;NA&gt;</td>\n",
       "      <td>D6</td>\n",
       "    </tr>\n",
       "  </tbody>\n",
       "</table>\n",
       "</div>"
      ],
      "text/plain": [
       "       titleId                                              title region  \\\n",
       "130  tt0000053  A Chegada do Comboio Inaugural à Estação Centr...     PT   \n",
       "131  tt0138358  A Chegada do Rebocador 'Liberal' ao Porto de L...     PT   \n",
       "\n",
       "    titleType  startYear             genres  directors writers  AveRating  \\\n",
       "130     short       1897  Documentary,Short  nm0684607      \\N        2.8   \n",
       "131     short       1897  Documentary,Short  nm0684607      \\N        4.9   \n",
       "\n",
       "     Num_of_Votes     primaryName_Director  birthYear_Director  deathYear  \\\n",
       "130           8.0  Francisco Pinto Moreira                <NA>       <NA>   \n",
       "131           7.0  Francisco Pinto Moreira                <NA>       <NA>   \n",
       "\n",
       "    primaryProfession_director             Dir_knownForTitles  Age_of_movie  \\\n",
       "130                   director  tt0138450,tt0000053,tt0138358         124.0   \n",
       "131                   director  tt0138450,tt0000053,tt0138358         124.0   \n",
       "\n",
       "     Director_age Decade  \n",
       "130          <NA>     D6  \n",
       "131          <NA>     D6  "
      ]
     },
     "execution_count": 54,
     "metadata": {},
     "output_type": "execute_result"
    }
   ],
   "source": [
    "IMDB_data_NoDup_copy[IMDB_data_NoDup_copy.isnull().any(axis=1)].head(2)      #Checking Null values in df"
   ]
  },
  {
   "cell_type": "code",
   "execution_count": 55,
   "metadata": {
    "id": "kSIAqmaJQTIC"
   },
   "outputs": [],
   "source": [
    "#IMDB_data_NoDup_copy[\"startYear\"].fillna( method ='ffill', inplace = True)           # replacing startyear Null value with zero\n",
    "IMDB_data_NoDup_copy['startYear'] = IMDB_data_NoDup_copy['startYear'].replace(np.nan, 0)"
   ]
  },
  {
   "cell_type": "code",
   "execution_count": 56,
   "metadata": {
    "colab": {
     "base_uri": "https://localhost:8080/",
     "height": 69
    },
    "id": "v1uHBIKyQTID",
    "outputId": "c4eaedc3-b3eb-4903-f93c-28eab327ea58"
   },
   "outputs": [
    {
     "data": {
      "text/html": [
       "<div>\n",
       "<style scoped>\n",
       "    .dataframe tbody tr th:only-of-type {\n",
       "        vertical-align: middle;\n",
       "    }\n",
       "\n",
       "    .dataframe tbody tr th {\n",
       "        vertical-align: top;\n",
       "    }\n",
       "\n",
       "    .dataframe thead th {\n",
       "        text-align: right;\n",
       "    }\n",
       "</style>\n",
       "<table border=\"1\" class=\"dataframe\">\n",
       "  <thead>\n",
       "    <tr style=\"text-align: right;\">\n",
       "      <th></th>\n",
       "      <th>titleId</th>\n",
       "      <th>title</th>\n",
       "      <th>region</th>\n",
       "      <th>titleType</th>\n",
       "      <th>startYear</th>\n",
       "      <th>genres</th>\n",
       "      <th>directors</th>\n",
       "      <th>writers</th>\n",
       "      <th>AveRating</th>\n",
       "      <th>Num_of_Votes</th>\n",
       "      <th>primaryName_Director</th>\n",
       "      <th>birthYear_Director</th>\n",
       "      <th>deathYear</th>\n",
       "      <th>primaryProfession_director</th>\n",
       "      <th>Dir_knownForTitles</th>\n",
       "      <th>Age_of_movie</th>\n",
       "      <th>Director_age</th>\n",
       "      <th>Decade</th>\n",
       "    </tr>\n",
       "  </thead>\n",
       "  <tbody>\n",
       "  </tbody>\n",
       "</table>\n",
       "</div>"
      ],
      "text/plain": [
       "Empty DataFrame\n",
       "Columns: [titleId, title, region, titleType, startYear, genres, directors, writers, AveRating, Num_of_Votes, primaryName_Director, birthYear_Director, deathYear, primaryProfession_director, Dir_knownForTitles, Age_of_movie, Director_age, Decade]\n",
       "Index: []"
      ]
     },
     "execution_count": 56,
     "metadata": {},
     "output_type": "execute_result"
    }
   ],
   "source": [
    "IMDB_data_NoDup_copy[IMDB_data_NoDup_copy['title'] == \"The Wonderful World of Wilbur Pope\"]     # Checking replacment zero\n",
    "IMDB_data_NoDup_copy[IMDB_data_NoDup_copy['title'] == \"Barnyard WAAC\"]  "
   ]
  },
  {
   "cell_type": "code",
   "execution_count": 57,
   "metadata": {
    "colab": {
     "base_uri": "https://localhost:8080/",
     "height": 338
    },
    "id": "Zn5nZNTaQTID",
    "outputId": "fc8df54d-d13c-48cf-b17e-7a8b9fae26fc"
   },
   "outputs": [
    {
     "data": {
      "text/html": [
       "<div>\n",
       "<style scoped>\n",
       "    .dataframe tbody tr th:only-of-type {\n",
       "        vertical-align: middle;\n",
       "    }\n",
       "\n",
       "    .dataframe tbody tr th {\n",
       "        vertical-align: top;\n",
       "    }\n",
       "\n",
       "    .dataframe thead th {\n",
       "        text-align: right;\n",
       "    }\n",
       "</style>\n",
       "<table border=\"1\" class=\"dataframe\">\n",
       "  <thead>\n",
       "    <tr style=\"text-align: right;\">\n",
       "      <th></th>\n",
       "      <th>titleId</th>\n",
       "      <th>title</th>\n",
       "      <th>region</th>\n",
       "      <th>titleType</th>\n",
       "      <th>startYear</th>\n",
       "      <th>genres</th>\n",
       "      <th>directors</th>\n",
       "      <th>writers</th>\n",
       "      <th>AveRating</th>\n",
       "      <th>Num_of_Votes</th>\n",
       "      <th>primaryName_Director</th>\n",
       "      <th>birthYear_Director</th>\n",
       "      <th>deathYear</th>\n",
       "      <th>primaryProfession_director</th>\n",
       "      <th>Dir_knownForTitles</th>\n",
       "      <th>Age_of_movie</th>\n",
       "      <th>Director_age</th>\n",
       "      <th>Decade</th>\n",
       "    </tr>\n",
       "  </thead>\n",
       "  <tbody>\n",
       "    <tr>\n",
       "      <th>130</th>\n",
       "      <td>tt0000053</td>\n",
       "      <td>A Chegada do Comboio Inaugural à Estação Centr...</td>\n",
       "      <td>PT</td>\n",
       "      <td>short</td>\n",
       "      <td>1897</td>\n",
       "      <td>Documentary,Short</td>\n",
       "      <td>nm0684607</td>\n",
       "      <td>\\N</td>\n",
       "      <td>2.8</td>\n",
       "      <td>8.0</td>\n",
       "      <td>Francisco Pinto Moreira</td>\n",
       "      <td>&lt;NA&gt;</td>\n",
       "      <td>&lt;NA&gt;</td>\n",
       "      <td>director</td>\n",
       "      <td>tt0138450,tt0000053,tt0138358</td>\n",
       "      <td>124.0</td>\n",
       "      <td>&lt;NA&gt;</td>\n",
       "      <td>D6</td>\n",
       "    </tr>\n",
       "    <tr>\n",
       "      <th>131</th>\n",
       "      <td>tt0138358</td>\n",
       "      <td>A Chegada do Rebocador 'Liberal' ao Porto de L...</td>\n",
       "      <td>PT</td>\n",
       "      <td>short</td>\n",
       "      <td>1897</td>\n",
       "      <td>Documentary,Short</td>\n",
       "      <td>nm0684607</td>\n",
       "      <td>\\N</td>\n",
       "      <td>4.9</td>\n",
       "      <td>7.0</td>\n",
       "      <td>Francisco Pinto Moreira</td>\n",
       "      <td>&lt;NA&gt;</td>\n",
       "      <td>&lt;NA&gt;</td>\n",
       "      <td>director</td>\n",
       "      <td>tt0138450,tt0000053,tt0138358</td>\n",
       "      <td>124.0</td>\n",
       "      <td>&lt;NA&gt;</td>\n",
       "      <td>D6</td>\n",
       "    </tr>\n",
       "  </tbody>\n",
       "</table>\n",
       "</div>"
      ],
      "text/plain": [
       "       titleId                                              title region  \\\n",
       "130  tt0000053  A Chegada do Comboio Inaugural à Estação Centr...     PT   \n",
       "131  tt0138358  A Chegada do Rebocador 'Liberal' ao Porto de L...     PT   \n",
       "\n",
       "    titleType  startYear             genres  directors writers  AveRating  \\\n",
       "130     short       1897  Documentary,Short  nm0684607      \\N        2.8   \n",
       "131     short       1897  Documentary,Short  nm0684607      \\N        4.9   \n",
       "\n",
       "     Num_of_Votes     primaryName_Director  birthYear_Director  deathYear  \\\n",
       "130           8.0  Francisco Pinto Moreira                <NA>       <NA>   \n",
       "131           7.0  Francisco Pinto Moreira                <NA>       <NA>   \n",
       "\n",
       "    primaryProfession_director             Dir_knownForTitles  Age_of_movie  \\\n",
       "130                   director  tt0138450,tt0000053,tt0138358         124.0   \n",
       "131                   director  tt0138450,tt0000053,tt0138358         124.0   \n",
       "\n",
       "     Director_age Decade  \n",
       "130          <NA>     D6  \n",
       "131          <NA>     D6  "
      ]
     },
     "execution_count": 57,
     "metadata": {},
     "output_type": "execute_result"
    }
   ],
   "source": [
    "IMDB_data_NoDup_copy[IMDB_data_NoDup_copy['birthYear_Director'].isnull()].head(2)   # Checkin Null values in Column birthYear_Director "
   ]
  },
  {
   "cell_type": "code",
   "execution_count": 58,
   "metadata": {
    "id": "rsd5XnkCQTID"
   },
   "outputs": [],
   "source": [
    "#Replacing Null values with 0 and others \n",
    "\n",
    "IMDB_data_NoDup_copy['birthYear_Director'] = IMDB_data_NoDup_copy['birthYear_Director'].replace(np.nan, 0)\n",
    "IMDB_data_NoDup_copy['deathYear'] = IMDB_data_NoDup_copy['deathYear'].replace(np.nan, 0)\n",
    "IMDB_data_NoDup_copy['Director_age'] = IMDB_data_NoDup_copy['Director_age'].replace(np.nan, 0)\n",
    "IMDB_data_NoDup_copy['primaryProfession_director'] = IMDB_data_NoDup_copy['primaryProfession_director'].replace(np.nan, 'others')"
   ]
  },
  {
   "cell_type": "code",
   "execution_count": 59,
   "metadata": {
    "colab": {
     "base_uri": "https://localhost:8080/",
     "height": 338
    },
    "id": "XEtBYliRQTIE",
    "outputId": "b3683a3b-8ef5-462e-d7ae-42768f365be4"
   },
   "outputs": [
    {
     "data": {
      "text/html": [
       "<div>\n",
       "<style scoped>\n",
       "    .dataframe tbody tr th:only-of-type {\n",
       "        vertical-align: middle;\n",
       "    }\n",
       "\n",
       "    .dataframe tbody tr th {\n",
       "        vertical-align: top;\n",
       "    }\n",
       "\n",
       "    .dataframe thead th {\n",
       "        text-align: right;\n",
       "    }\n",
       "</style>\n",
       "<table border=\"1\" class=\"dataframe\">\n",
       "  <thead>\n",
       "    <tr style=\"text-align: right;\">\n",
       "      <th></th>\n",
       "      <th>titleId</th>\n",
       "      <th>title</th>\n",
       "      <th>region</th>\n",
       "      <th>titleType</th>\n",
       "      <th>startYear</th>\n",
       "      <th>genres</th>\n",
       "      <th>directors</th>\n",
       "      <th>writers</th>\n",
       "      <th>AveRating</th>\n",
       "      <th>Num_of_Votes</th>\n",
       "      <th>primaryName_Director</th>\n",
       "      <th>birthYear_Director</th>\n",
       "      <th>deathYear</th>\n",
       "      <th>primaryProfession_director</th>\n",
       "      <th>Dir_knownForTitles</th>\n",
       "      <th>Age_of_movie</th>\n",
       "      <th>Director_age</th>\n",
       "      <th>Decade</th>\n",
       "    </tr>\n",
       "  </thead>\n",
       "  <tbody>\n",
       "    <tr>\n",
       "      <th>130</th>\n",
       "      <td>tt0000053</td>\n",
       "      <td>A Chegada do Comboio Inaugural à Estação Centr...</td>\n",
       "      <td>PT</td>\n",
       "      <td>short</td>\n",
       "      <td>1897</td>\n",
       "      <td>Documentary,Short</td>\n",
       "      <td>nm0684607</td>\n",
       "      <td>\\N</td>\n",
       "      <td>2.8</td>\n",
       "      <td>8.0</td>\n",
       "      <td>Francisco Pinto Moreira</td>\n",
       "      <td>0</td>\n",
       "      <td>0</td>\n",
       "      <td>director</td>\n",
       "      <td>tt0138450,tt0000053,tt0138358</td>\n",
       "      <td>124.0</td>\n",
       "      <td>0</td>\n",
       "      <td>D6</td>\n",
       "    </tr>\n",
       "    <tr>\n",
       "      <th>131</th>\n",
       "      <td>tt0138358</td>\n",
       "      <td>A Chegada do Rebocador 'Liberal' ao Porto de L...</td>\n",
       "      <td>PT</td>\n",
       "      <td>short</td>\n",
       "      <td>1897</td>\n",
       "      <td>Documentary,Short</td>\n",
       "      <td>nm0684607</td>\n",
       "      <td>\\N</td>\n",
       "      <td>4.9</td>\n",
       "      <td>7.0</td>\n",
       "      <td>Francisco Pinto Moreira</td>\n",
       "      <td>0</td>\n",
       "      <td>0</td>\n",
       "      <td>director</td>\n",
       "      <td>tt0138450,tt0000053,tt0138358</td>\n",
       "      <td>124.0</td>\n",
       "      <td>0</td>\n",
       "      <td>D6</td>\n",
       "    </tr>\n",
       "  </tbody>\n",
       "</table>\n",
       "</div>"
      ],
      "text/plain": [
       "       titleId                                              title region  \\\n",
       "130  tt0000053  A Chegada do Comboio Inaugural à Estação Centr...     PT   \n",
       "131  tt0138358  A Chegada do Rebocador 'Liberal' ao Porto de L...     PT   \n",
       "\n",
       "    titleType  startYear             genres  directors writers  AveRating  \\\n",
       "130     short       1897  Documentary,Short  nm0684607      \\N        2.8   \n",
       "131     short       1897  Documentary,Short  nm0684607      \\N        4.9   \n",
       "\n",
       "     Num_of_Votes     primaryName_Director  birthYear_Director  deathYear  \\\n",
       "130           8.0  Francisco Pinto Moreira                   0          0   \n",
       "131           7.0  Francisco Pinto Moreira                   0          0   \n",
       "\n",
       "    primaryProfession_director             Dir_knownForTitles  Age_of_movie  \\\n",
       "130                   director  tt0138450,tt0000053,tt0138358         124.0   \n",
       "131                   director  tt0138450,tt0000053,tt0138358         124.0   \n",
       "\n",
       "     Director_age Decade  \n",
       "130             0     D6  \n",
       "131             0     D6  "
      ]
     },
     "execution_count": 59,
     "metadata": {},
     "output_type": "execute_result"
    }
   ],
   "source": [
    "# checkin columns after replacement \n",
    "IMDB_data_NoDup_copy[IMDB_data_NoDup_copy['primaryName_Director'] == \"Francisco Pinto Moreira\"] "
   ]
  },
  {
   "cell_type": "code",
   "execution_count": 60,
   "metadata": {
    "colab": {
     "base_uri": "https://localhost:8080/",
     "height": 69
    },
    "id": "zvkWbm5-QTIE",
    "outputId": "9257cb91-7157-4401-b8b3-a5906cc8fc5f"
   },
   "outputs": [
    {
     "data": {
      "text/html": [
       "<div>\n",
       "<style scoped>\n",
       "    .dataframe tbody tr th:only-of-type {\n",
       "        vertical-align: middle;\n",
       "    }\n",
       "\n",
       "    .dataframe tbody tr th {\n",
       "        vertical-align: top;\n",
       "    }\n",
       "\n",
       "    .dataframe thead th {\n",
       "        text-align: right;\n",
       "    }\n",
       "</style>\n",
       "<table border=\"1\" class=\"dataframe\">\n",
       "  <thead>\n",
       "    <tr style=\"text-align: right;\">\n",
       "      <th></th>\n",
       "      <th>titleId</th>\n",
       "      <th>title</th>\n",
       "      <th>region</th>\n",
       "      <th>titleType</th>\n",
       "      <th>startYear</th>\n",
       "      <th>genres</th>\n",
       "      <th>directors</th>\n",
       "      <th>writers</th>\n",
       "      <th>AveRating</th>\n",
       "      <th>Num_of_Votes</th>\n",
       "      <th>primaryName_Director</th>\n",
       "      <th>birthYear_Director</th>\n",
       "      <th>deathYear</th>\n",
       "      <th>primaryProfession_director</th>\n",
       "      <th>Dir_knownForTitles</th>\n",
       "      <th>Age_of_movie</th>\n",
       "      <th>Director_age</th>\n",
       "      <th>Decade</th>\n",
       "    </tr>\n",
       "  </thead>\n",
       "  <tbody>\n",
       "  </tbody>\n",
       "</table>\n",
       "</div>"
      ],
      "text/plain": [
       "Empty DataFrame\n",
       "Columns: [titleId, title, region, titleType, startYear, genres, directors, writers, AveRating, Num_of_Votes, primaryName_Director, birthYear_Director, deathYear, primaryProfession_director, Dir_knownForTitles, Age_of_movie, Director_age, Decade]\n",
       "Index: []"
      ]
     },
     "execution_count": 60,
     "metadata": {},
     "output_type": "execute_result"
    }
   ],
   "source": [
    "# Checking NUll values after replacemnet\n",
    "    #IMDB_data_NoDup_copy[IMDB_data_NoDup_copy['startYear'].isnull()]\n",
    "IMDB_data_NoDup_copy[IMDB_data_NoDup_copy.isnull().any(axis=1)].head(2)          \n"
   ]
  },
  {
   "cell_type": "code",
   "execution_count": 61,
   "metadata": {
    "colab": {
     "base_uri": "https://localhost:8080/"
    },
    "id": "6FotLGyKQTIE",
    "outputId": "e9a5a623-9afc-42a4-adbc-fa95076b7f11"
   },
   "outputs": [
    {
     "name": "stdout",
     "output_type": "stream",
     "text": [
      "<class 'pandas.core.frame.DataFrame'>\n",
      "Int64Index: 4995 entries, 0 to 4999\n",
      "Data columns (total 18 columns):\n",
      " #   Column                      Non-Null Count  Dtype  \n",
      "---  ------                      --------------  -----  \n",
      " 0   titleId                     4995 non-null   object \n",
      " 1   title                       4995 non-null   object \n",
      " 2   region                      4995 non-null   object \n",
      " 3   titleType                   4995 non-null   object \n",
      " 4   startYear                   4995 non-null   Int64  \n",
      " 5   genres                      4995 non-null   object \n",
      " 6   directors                   4995 non-null   object \n",
      " 7   writers                     4995 non-null   object \n",
      " 8   AveRating                   4995 non-null   float64\n",
      " 9   Num_of_Votes                4995 non-null   float64\n",
      " 10  primaryName_Director        4995 non-null   object \n",
      " 11  birthYear_Director          4995 non-null   Int64  \n",
      " 12  deathYear                   4995 non-null   Int64  \n",
      " 13  primaryProfession_director  4995 non-null   object \n",
      " 14  Dir_knownForTitles          4995 non-null   object \n",
      " 15  Age_of_movie                4995 non-null   float64\n",
      " 16  Director_age                4995 non-null   Int64  \n",
      " 17  Decade                      4995 non-null   object \n",
      "dtypes: Int64(4), float64(3), object(11)\n",
      "memory usage: 761.0+ KB\n"
     ]
    }
   ],
   "source": [
    "# checking value after replacing all null values\n",
    "IMDB_data_NoDup_copy.info()                        "
   ]
  },
  {
   "cell_type": "code",
   "execution_count": 62,
   "metadata": {
    "colab": {
     "base_uri": "https://localhost:8080/"
    },
    "id": "2jl07jUYQTIE",
    "outputId": "152f1349-c05b-4a96-dd95-eb646817c1d3"
   },
   "outputs": [
    {
     "data": {
      "text/plain": [
       "The Poor Fish                    3\n",
       "Hamlet                           3\n",
       "Faust                            3\n",
       "One Touch of Nature              3\n",
       "Silas Marner                     3\n",
       "                                ..\n",
       "Armour's Electric Trolley        1\n",
       "The Girl Spy Before Vicksburg    1\n",
       "Lay That Rifle Down              1\n",
       "Lightning Bryce                  1\n",
       "Milling the Militants            1\n",
       "Name: title, Length: 4934, dtype: int64"
      ]
     },
     "execution_count": 62,
     "metadata": {},
     "output_type": "execute_result"
    }
   ],
   "source": [
    "# value count for duplicates \n",
    "IMDB_data_NoDup_copy['title'].value_counts() "
   ]
  },
  {
   "cell_type": "code",
   "execution_count": 63,
   "metadata": {},
   "outputs": [
    {
     "name": "stdout",
     "output_type": "stream",
     "text": [
      "      AveRating\n",
      "0           5.3\n",
      "1           5.4\n",
      "2           4.4\n",
      "3           6.3\n",
      "4           5.3\n",
      "...         ...\n",
      "4995        8.0\n",
      "4996        7.6\n",
      "4997        7.5\n",
      "4998        7.5\n",
      "4999        7.1\n",
      "\n",
      "[4995 rows x 1 columns]\n"
     ]
    },
    {
     "data": {
      "text/plain": [
       "(4995, 1)"
      ]
     },
     "execution_count": 63,
     "metadata": {},
     "output_type": "execute_result"
    }
   ],
   "source": [
    "## selection of y \n",
    "y = IMDB_data_NoDup_copy[['AveRating']]#.set_index(['AveRating'])\n",
    "print(y)\n",
    "y.shape"
   ]
  },
  {
   "cell_type": "code",
   "execution_count": 64,
   "metadata": {
    "id": "7dXJFsXSnHW8"
   },
   "outputs": [
    {
     "data": {
      "text/plain": [
       "(4995, 17)"
      ]
     },
     "execution_count": 64,
     "metadata": {},
     "output_type": "execute_result"
    }
   ],
   "source": [
    "# selection of X and y \n",
    "\n",
    "X = IMDB_data_NoDup_copy.drop(['AveRating'], axis = 1)#.set_index(['AveRating'])\n",
    "#print(X)\n",
    "X.shape\n"
   ]
  },
  {
   "cell_type": "code",
   "execution_count": 65,
   "metadata": {},
   "outputs": [],
   "source": [
    "#df = df[['geoName', 'geoCode', 'value']].set_index(\n",
    "            #['geoName']).sort_index()"
   ]
  },
  {
   "cell_type": "code",
   "execution_count": 66,
   "metadata": {},
   "outputs": [
    {
     "name": "stdout",
     "output_type": "stream",
     "text": [
      "      AveRating\n",
      "2140        5.4\n",
      "1872        7.2\n",
      "368         4.7\n",
      "97          4.5\n",
      "1745        6.2\n",
      "...         ...\n",
      "4845        6.2\n",
      "681         5.9\n",
      "3978        5.4\n",
      "4584        6.9\n",
      "3848        6.4\n",
      "\n",
      "[3996 rows x 1 columns]\n",
      "2140    Lucy Goes to the Air Force Academy: Part 2\n",
      "1872                      Bobby Bumps Goes Fishing\n",
      "368                    Las Viga Canal, Mexico City\n",
      "97                           Figaro et l'auvergnat\n",
      "1745                                     War Mamas\n",
      "                           ...                    \n",
      "4845                            Love Your Landlord\n",
      "681                                   The Conjurer\n",
      "3978                           Command Performance\n",
      "4584                                  Fado Corrido\n",
      "3848                         Black and Tan Fantasy\n",
      "Name: title, Length: 3996, dtype: object\n"
     ]
    }
   ],
   "source": [
    "# split into train test sets\n",
    "from sklearn.model_selection import train_test_split\n",
    "X_train, X_test, y_train, y_test = train_test_split(X, y, test_size=0.20)\n",
    "print(y_train)\n",
    "type(X_train)\n",
    "print(X_train['title'])"
   ]
  },
  {
   "cell_type": "code",
   "execution_count": 67,
   "metadata": {},
   "outputs": [],
   "source": [
    "from sklearn.preprocessing import OneHotEncoder\n",
    "\n",
    "#all_encoder = []    \n",
    "class MultiColumnLabelEncoder():\n",
    "    all_encoder = []\n",
    "       \n",
    "    def __init__(self, dataSource, sourceColumnNames):\n",
    "        self.dataSource = dataSource\n",
    "        self.sourceColumnNames = sourceColumnNames\n",
    "\n",
    "    def fit(self):\n",
    "        for col in self.sourceColumnNames:\n",
    "            encoder = OneHotEncoder(handle_unknown = \"ignore\")\n",
    "            encoder = encoder.fit(self.dataSource[col])\n",
    "            self.all_encoder.append(encoder) \n",
    "            \n",
    "    def transform(self, test_data):\n",
    "        final_data = []\n",
    "        \n",
    "        for i,col in enumerate(self.sourceColumnNames):\n",
    "            data = self.all_encoder[i].transform(test_data[col])\n",
    "            final_data =np.append(final_data,[data])\n",
    "        #print(self.dataSource[col])\n",
    "        #print(type(pd.DataFrame(self.all_encoder)))\n",
    "        return final_data\n",
    "            \n",
    "              "
   ]
  },
  {
   "cell_type": "code",
   "execution_count": 68,
   "metadata": {
    "colab": {
     "base_uri": "https://localhost:8080/"
    },
    "id": "kL4hIjL4peS2",
    "outputId": "b5887e48-13d3-4524-bd32-af3bc88fd396",
    "scrolled": true
   },
   "outputs": [
    {
     "name": "stdout",
     "output_type": "stream",
     "text": [
      "(999, 12140)\n",
      "(3996, 12140)\n",
      "[<3996x12140 sparse matrix of type '<class 'numpy.float64'>'\n",
      " \twith 39960 stored elements in Compressed Sparse Row format>]\n"
     ]
    }
   ],
   "source": [
    "columns = [['titleId', \"title\",'region', 'titleType','directors', 'writers', 'primaryName_Director', \n",
    "                                             'primaryProfession_director', 'Dir_knownForTitles', 'Decade']]\n",
    "#Y_col = [['AveRating']]\n",
    "\n",
    "data_coder = MultiColumnLabelEncoder(X_train, columns)\n",
    "#print(Coder_XTrain.shape)\n",
    "data_coder.fit()\n",
    "#print(Coder_XTrain.shape)\n",
    "#Coder_Xtest = MultiColumnLabelEncoder(X_test, columns)\n",
    "Xtest_data = data_coder.transform(X_test)\n",
    "print(Xtest_data[0].shape)\n",
    "\n",
    "\n",
    "Xtrain_data = data_coder.transform(X_train)\n",
    "print(Xtrain_data[0].shape)\n",
    "\n",
    "#Xtest_data = pd.DataFrame(Xtest_data)\n",
    "#print(type(Xtest_data))\n",
    "\n",
    "\n",
    "#print(Coder_Xtest.shape)\n",
    "\n",
    "#Xtrain_data = pd.DataFrame(Xtrain_data)\n",
    "#print(type(Xtrain_data))\n",
    "print(Xtrain_data)"
   ]
  },
  {
   "cell_type": "code",
   "execution_count": 69,
   "metadata": {},
   "outputs": [],
   "source": [
    "from sklearn.preprocessing import MultiLabelBinarizer\n",
    " \n",
    "    \n",
    "#MLB_encoder = []    \n",
    "class MultiLabelBinarizer1():\n",
    "    MLB_encoder = []\n",
    "    \n",
    "    def __init__(self, dataSource, sourceColumnNames):\n",
    "        self.dataSource = dataSource\n",
    "        self.sourceColumnNames = sourceColumnNames\n",
    "\n",
    "    def fit(self):\n",
    "        #self.MLB_encoder = []\n",
    "       \n",
    "        for col in self.sourceColumnNames:\n",
    "            ML_coder = MultiLabelBinarizer()\n",
    "            ML_coder = ML_coder.fit(self.dataSource[col])\n",
    "            self.MLB_encoder.append(ML_coder)\n",
    "      \n",
    "    def transform(self, test_data2):\n",
    "        ML_data = []\n",
    "        for i,col in enumerate(self.sourceColumnNames):\n",
    "            B_data = self.MLB_encoder[i].transform(test_data2[col])\n",
    "            #print(data)\n",
    "            ML_data =np.append(ML_data,[B_data])\n",
    "            \n",
    "        return ML_data\n",
    "              "
   ]
  },
  {
   "cell_type": "code",
   "execution_count": 70,
   "metadata": {},
   "outputs": [
    {
     "name": "stdout",
     "output_type": "stream",
     "text": [
      "(30,)\n",
      "(30,)\n"
     ]
    }
   ],
   "source": [
    "colum = [['genres', \"Dir_knownForTitles\"]]\n",
    "\n",
    "\n",
    "M_Coder_XTrain = MultiLabelBinarizer1(X_train, colum)\n",
    "M_Coder_XTrain.fit()\n",
    "\n",
    "\n",
    "#MultiLabelBinarizer1(X_test, colum)\n",
    "X_tain2 = M_Coder_XTrain.transform(X_train)\n",
    "print(X_tain2.shape)\n",
    "X_test2 = M_Coder_XTrain.transform(X_test)\n",
    "print(X_test2.shape)\n",
    "#print(M_Coder_XTest)\n",
    "#Coder.sourceColumnNames"
   ]
  },
  {
   "cell_type": "code",
   "execution_count": 71,
   "metadata": {},
   "outputs": [
    {
     "name": "stdout",
     "output_type": "stream",
     "text": [
      "  (0, 3357)\t1.0\n",
      "  (0, 5898)\t1.0\n",
      "  (0, 7982)\t1.0\n",
      "  (0, 7987)\t1.0\n",
      "  (0, 8442)\t1.0\n",
      "  (0, 10219)\t1.0\n",
      "  (0, 10748)\t1.0\n",
      "  (0, 11323)\t1.0\n",
      "  (0, 11879)\t1.0\n",
      "  (0, 12136)\t1.0\n",
      "  (1, 512)\t1.0\n",
      "  (1, 4477)\t1.0\n",
      "  (1, 7982)\t1.0\n",
      "  (1, 7986)\t1.0\n",
      "  (1, 8341)\t1.0\n",
      "  (1, 9670)\t1.0\n",
      "  (1, 10642)\t1.0\n",
      "  (1, 11361)\t1.0\n",
      "  (1, 11790)\t1.0\n",
      "  (1, 12138)\t1.0\n",
      "  (2, 2400)\t1.0\n",
      "  (2, 5747)\t1.0\n",
      "  (2, 7982)\t1.0\n",
      "  (2, 7986)\t1.0\n",
      "  (2, 8722)\t1.0\n",
      "  :\t:\n",
      "  (3993, 9297)\t1.0\n",
      "  (3993, 11191)\t1.0\n",
      "  (3993, 11323)\t1.0\n",
      "  (3993, 11878)\t1.0\n",
      "  (3993, 12137)\t1.0\n",
      "  (3994, 1674)\t1.0\n",
      "  (3994, 5058)\t1.0\n",
      "  (3994, 7979)\t1.0\n",
      "  (3994, 7985)\t1.0\n",
      "  (3994, 8196)\t1.0\n",
      "  (3994, 9956)\t1.0\n",
      "  (3994, 10913)\t1.0\n",
      "  (3994, 11323)\t1.0\n",
      "  (3994, 11880)\t1.0\n",
      "  (3994, 12136)\t1.0\n",
      "  (3995, 913)\t1.0\n",
      "  (3995, 4450)\t1.0\n",
      "  (3995, 7982)\t1.0\n",
      "  (3995, 7986)\t1.0\n",
      "  (3995, 8498)\t1.0\n",
      "  (3995, 9961)\t1.0\n",
      "  (3995, 10636)\t1.0\n",
      "  (3995, 11327)\t1.0\n",
      "  (3995, 11782)\t1.0\n",
      "  (3995, 12137)\t1.0\n"
     ]
    }
   ],
   "source": [
    "#print(X_train[\"titleId\"])\n",
    "print(Xtrain_data[0])"
   ]
  },
  {
   "cell_type": "code",
   "execution_count": 72,
   "metadata": {},
   "outputs": [
    {
     "name": "stdout",
     "output_type": "stream",
     "text": [
      "(1,)\n",
      "(1,)\n"
     ]
    }
   ],
   "source": [
    "print(Xtrain_data.shape)\n",
    "print(Xtest_data.shape)"
   ]
  },
  {
   "cell_type": "markdown",
   "metadata": {},
   "source": [
    "# Modelling:  1. LinearRegression "
   ]
  },
  {
   "cell_type": "code",
   "execution_count": 73,
   "metadata": {},
   "outputs": [
    {
     "name": "stdout",
     "output_type": "stream",
     "text": [
      "(999, 1)\n",
      "xtrain (3996, 12140)\n",
      "y_train (3996, 1)\n",
      "xtest (999, 12140)\n",
      "y_test (999, 1)\n"
     ]
    }
   ],
   "source": [
    "#Modelling \n",
    "from sklearn.metrics import r2_score,mean_squared_error\n",
    "from sklearn.linear_model import LinearRegression\n",
    "\n",
    "reg = LinearRegression()\n",
    "\n",
    "#Training the model.\n",
    "reg.fit(Xtrain_data[0], y_train)\n",
    "\n",
    "#Predict test data set.\n",
    "y_pred = reg.predict(Xtest_data[0])\n",
    "#print(y_pred)\n",
    "\n",
    "\n",
    "print(y_pred.shape)\n",
    "print(\"xtrain\" ,Xtrain_data[0].shape)\n",
    "print(\"y_train\", y_train.shape)\n",
    "print(\"xtest\" ,  Xtest_data[0].shape)\n",
    "print(\"y_test\", y_test.shape)\n",
    "\n",
    "\n",
    "\n",
    "#predictions = model.predict(inputs)\n",
    "#model.fit(inputs, targets)"
   ]
  },
  {
   "cell_type": "markdown",
   "metadata": {},
   "source": [
    "# 1.1 Result Evaluation "
   ]
  },
  {
   "cell_type": "code",
   "execution_count": 74,
   "metadata": {},
   "outputs": [
    {
     "name": "stdout",
     "output_type": "stream",
     "text": [
      "intercept_: [6.37550301]\n",
      "reg.coef_ [[ 0.00487752 -0.19032632 -0.7505827  ...  0.23589214 -0.26596342\n",
      "  -0.6014105 ]]\n",
      "Mean Square Error: 1.14\n",
      "Root Mean Square Error: 1.07\n",
      "R-Squared: 0.28\n"
     ]
    }
   ],
   "source": [
    "import sklearn.metrics as metrics\n",
    "from sklearn.metrics import mean_squared_error\n",
    "import math\n",
    "\n",
    "\n",
    "print(\"intercept_:\", reg.intercept_)\n",
    "print(\"reg.coef_\", reg.coef_)\n",
    "\n",
    "\n",
    "MSE = mean_squared_error(y_test, y_pred)\n",
    "print(\"Mean Square Error:\", \"{:.2f}\".format(MSE))\n",
    "\n",
    "RMSE = math.sqrt(MSE)\n",
    "print(\"Root Mean Square Error:\", \"{:.2f}\".format(RMSE))\n",
    "\n",
    "#print(r2_score(y_test, y_pred))\n",
    "\n",
    "print(\"R-Squared:\", \"{:.2f}\".format(metrics.r2_score(y_test, y_pred)))\n",
    "#print(RMSE)\n",
    "      \n"
   ]
  },
  {
   "cell_type": "markdown",
   "metadata": {},
   "source": [
    "# 1.2 Comparation of observed and predicted values"
   ]
  },
  {
   "cell_type": "code",
   "execution_count": 75,
   "metadata": {
    "scrolled": true
   },
   "outputs": [
    {
     "data": {
      "image/png": "[encoded data removed]",
      "text/plain": [
       "<Figure size 720x1440 with 2 Axes>"
      ]
     },
     "metadata": {
      "needs_background": "light"
     },
     "output_type": "display_data"
    }
   ],
   "source": [
    "# Plot outputs\n",
    "#x = Xtest_data.iloc[:, :0].values\n",
    "import matplotlib.pyplot as plt\n",
    "plt.figure(figsize=(10,20))\n",
    "plt.subplot(521)\n",
    "plt.xlabel(\"y_observed\")\n",
    "plt.ylabel(\"y-predicted\")\n",
    "plt.scatter(y_test, y_pred, color='red')\n",
    "plt.title(\"Comparision between y_test and Y_pred\")\n",
    "\n",
    "plt.subplot(522)\n",
    "plt.scatter(y_pred, (y_test - y_pred), color='black')\n",
    "plt.title(\"Error between y_test and Y_pred\")\n",
    "plt.xlabel(\"y_observed\")\n",
    "plt.ylabel(\"y-diff\")\n",
    "plt.show()\n"
   ]
  },
  {
   "cell_type": "markdown",
   "metadata": {},
   "source": [
    "# Model Validation"
   ]
  },
  {
   "cell_type": "markdown",
   "metadata": {},
   "source": [
    "# Lasso method"
   ]
  },
  {
   "cell_type": "code",
   "execution_count": 76,
   "metadata": {},
   "outputs": [
    {
     "name": "stdout",
     "output_type": "stream",
     "text": [
      "Ridge intercept_: [6.37550301]\n",
      "Ridge reg.coef_ [[ 0.00487752 -0.19032632 -0.7505827  ...  0.23589214 -0.26596342\n",
      "  -0.6014105 ]]\n",
      "Ridge Mean Square Error: 1.14\n",
      "Ridge Root Mean Square Error: 1.19\n",
      "Ridge R-Squared: 0.12\n"
     ]
    }
   ],
   "source": [
    "from sklearn import linear_model\n",
    "\n",
    "Lreg = linear_model.Lasso(alpha=0.1)\n",
    "Lreg.fit(Xtrain_data[0], y_train)\n",
    "y_pred2 = Lreg.predict(Xtest_data[0])\n",
    "\n",
    "\n",
    "\n",
    "print(\"Ridge intercept_:\", reg.intercept_)\n",
    "print(\"Ridge reg.coef_\", reg.coef_)\n",
    "\n",
    "\n",
    "MSE2 = mean_squared_error(y_test, y_pred2)\n",
    "print(\"Ridge Mean Square Error:\", \"{:.2f}\".format(MSE))\n",
    "\n",
    "RMSE = math.sqrt(MSE2)\n",
    "print(\"Ridge Root Mean Square Error:\", \"{:.2f}\".format(RMSE))\n",
    "\n",
    "\n",
    "print(\"Ridge R-Squared:\", \"{:.2f}\".format(metrics.r2_score(y_test, y_pred2)))\n",
    "#print(RMSE)"
   ]
  },
  {
   "cell_type": "markdown",
   "metadata": {},
   "source": [
    "# XGBoost Regressor"
   ]
  },
  {
   "cell_type": "code",
   "execution_count": 77,
   "metadata": {},
   "outputs": [
    {
     "name": "stdout",
     "output_type": "stream",
     "text": [
      "XGB Mean Square Error: 1.14\n",
      "XGB Root Mean Square Error: 1.05\n",
      "XGB R-Squared: 0.30\n"
     ]
    }
   ],
   "source": [
    "import xgboost as xgb\n",
    "from xgboost import XGBRegressor\n",
    "\n",
    "model3 = xgb.XGBRegressor()\n",
    "model3.fit(Xtrain_data[0], y_train)\n",
    "y_pred3 = model3.predict(Xtest_data[0])\n",
    "#print(y_pred3)\n",
    "\n",
    "\n",
    "#print(\"XGB intercept_:\", model3.intercept_)\n",
    "#print(\"Ridge reg.coef_\", model3.coef_)\n",
    "\n",
    "\n",
    "MSE3 = mean_squared_error(y_test, y_pred3)\n",
    "print(\"XGB Mean Square Error:\", \"{:.2f}\".format(MSE))\n",
    "\n",
    "RMSE = math.sqrt(MSE3)\n",
    "print(\"XGB Root Mean Square Error:\", \"{:.2f}\".format(RMSE))\n",
    "\n",
    "\n",
    "print(\"XGB R-Squared:\", \"{:.2f}\".format(metrics.r2_score(y_test, y_pred3)))\n",
    "#print(RMSE)"
   ]
  },
  {
   "cell_type": "code",
   "execution_count": null,
   "metadata": {},
   "outputs": [],
   "source": []
  },
  {
   "cell_type": "markdown",
   "metadata": {},
   "source": [
    "# Polynominal Regression\n"
   ]
  },
  {
   "cell_type": "code",
   "execution_count": 177,
   "metadata": {
    "id": "NbjU3ndB5cUZ"
   },
   "outputs": [
    {
     "data": {
      "text/plain": [
       "<3996x74206653 sparse matrix of type '<class 'numpy.float64'>'\n",
       "\twith 263736 stored elements in Compressed Sparse Row format>"
      ]
     },
     "execution_count": 177,
     "metadata": {},
     "output_type": "execute_result"
    }
   ],
   "source": [
    "from sklearn.preprocessing import PolynomialFeatures\n",
    "poly_reg = PolynomialFeatures(degree=2)\n",
    "X_poly = poly_reg.fit_transform(Xtrain_data[0])\n",
    "X_poly"
   ]
  },
  {
   "cell_type": "code",
   "execution_count": 87,
   "metadata": {
    "id": "mD8CKf_JQTIG"
   },
   "outputs": [],
   "source": [
    "#Poly_reg = LinearRegression()\n",
    "#Poly_reg.fit(X_poly,y)\n",
    "\n",
    "import pandas as pd\n",
    "from sklearn.model_selection import train_test_split\n",
    "from sklearn.ensemble import RandomForestClassifier\n",
    "from sklearn.preprocessing import LabelEncoder\n",
    "from sklearn.metrics import confusion_matrix\n",
    "from sklearn.metrics import accuracy_score\n",
    "from sklearn.metrics import classification_report\n",
    "from sklearn.neighbors import KNeighborsClassifier"
   ]
  },
  {
   "cell_type": "code",
   "execution_count": 92,
   "metadata": {
    "id": "aTo9K9_9QTIG"
   },
   "outputs": [
    {
     "name": "stderr",
     "output_type": "stream",
     "text": [
      "C:\\Users\\vishd\\anaconda3\\lib\\site-packages\\xgboost\\sklearn.py:1146: UserWarning: The use of label encoder in XGBClassifier is deprecated and will be removed in a future release. To remove this warning, do the following: 1) Pass option use_label_encoder=False when constructing XGBClassifier object; and 2) Encode your labels (y) as integers starting with 0, i.e. 0, 1, 2, ..., [num_class - 1].\n",
      "  warnings.warn(label_encoder_deprecation_msg, UserWarning)\n"
     ]
    },
    {
     "name": "stdout",
     "output_type": "stream",
     "text": [
      "[08:50:27] WARNING: ..\\src\\learner.cc:1095: Starting in XGBoost 1.3.0, the default evaluation metric used with the objective 'multi:softprob' was changed from 'merror' to 'mlogloss'. Explicitly set eval_metric if you'd like to restore the old behavior.\n"
     ]
    }
   ],
   "source": []
  },
  {
   "cell_type": "code",
   "execution_count": 93,
   "metadata": {},
   "outputs": [
    {
     "ename": "ValueError",
     "evalue": "continuous is not supported",
     "output_type": "error",
     "traceback": [
      "\u001b[1;31m---------------------------------------------------------------------------\u001b[0m",
      "\u001b[1;31mValueError\u001b[0m                                Traceback (most recent call last)",
      "\u001b[1;32m<ipython-input-93-6c1fae01a722>\u001b[0m in \u001b[0;36m<module>\u001b[1;34m\u001b[0m\n\u001b[1;32m----> 1\u001b[1;33m \u001b[0mprint\u001b[0m\u001b[1;33m(\u001b[0m\u001b[1;34m'Model4 XGboost Report %r'\u001b[0m \u001b[1;33m%\u001b[0m \u001b[1;33m(\u001b[0m\u001b[0mclassification_report\u001b[0m\u001b[1;33m(\u001b[0m\u001b[0my_test\u001b[0m\u001b[1;33m,\u001b[0m \u001b[0my_pred4\u001b[0m\u001b[1;33m)\u001b[0m\u001b[1;33m)\u001b[0m\u001b[1;33m)\u001b[0m\u001b[1;33m\u001b[0m\u001b[1;33m\u001b[0m\u001b[0m\n\u001b[0m\u001b[0;32m      2\u001b[0m \u001b[1;31m#print('Model 2 XGboost Report %r' % (classification_report(y_test, pred2)))\u001b[0m\u001b[1;33m\u001b[0m\u001b[1;33m\u001b[0m\u001b[1;33m\u001b[0m\u001b[0m\n",
      "\u001b[1;32m~\\anaconda3\\lib\\site-packages\\sklearn\\utils\\validation.py\u001b[0m in \u001b[0;36minner_f\u001b[1;34m(*args, **kwargs)\u001b[0m\n\u001b[0;32m     61\u001b[0m             \u001b[0mextra_args\u001b[0m \u001b[1;33m=\u001b[0m \u001b[0mlen\u001b[0m\u001b[1;33m(\u001b[0m\u001b[0margs\u001b[0m\u001b[1;33m)\u001b[0m \u001b[1;33m-\u001b[0m \u001b[0mlen\u001b[0m\u001b[1;33m(\u001b[0m\u001b[0mall_args\u001b[0m\u001b[1;33m)\u001b[0m\u001b[1;33m\u001b[0m\u001b[1;33m\u001b[0m\u001b[0m\n\u001b[0;32m     62\u001b[0m             \u001b[1;32mif\u001b[0m \u001b[0mextra_args\u001b[0m \u001b[1;33m<=\u001b[0m \u001b[1;36m0\u001b[0m\u001b[1;33m:\u001b[0m\u001b[1;33m\u001b[0m\u001b[1;33m\u001b[0m\u001b[0m\n\u001b[1;32m---> 63\u001b[1;33m                 \u001b[1;32mreturn\u001b[0m \u001b[0mf\u001b[0m\u001b[1;33m(\u001b[0m\u001b[1;33m*\u001b[0m\u001b[0margs\u001b[0m\u001b[1;33m,\u001b[0m \u001b[1;33m**\u001b[0m\u001b[0mkwargs\u001b[0m\u001b[1;33m)\u001b[0m\u001b[1;33m\u001b[0m\u001b[1;33m\u001b[0m\u001b[0m\n\u001b[0m\u001b[0;32m     64\u001b[0m \u001b[1;33m\u001b[0m\u001b[0m\n\u001b[0;32m     65\u001b[0m             \u001b[1;31m# extra_args > 0\u001b[0m\u001b[1;33m\u001b[0m\u001b[1;33m\u001b[0m\u001b[1;33m\u001b[0m\u001b[0m\n",
      "\u001b[1;32m~\\anaconda3\\lib\\site-packages\\sklearn\\metrics\\_classification.py\u001b[0m in \u001b[0;36mclassification_report\u001b[1;34m(y_true, y_pred, labels, target_names, sample_weight, digits, output_dict, zero_division)\u001b[0m\n\u001b[0;32m   1964\u001b[0m     \"\"\"\n\u001b[0;32m   1965\u001b[0m \u001b[1;33m\u001b[0m\u001b[0m\n\u001b[1;32m-> 1966\u001b[1;33m     \u001b[0my_type\u001b[0m\u001b[1;33m,\u001b[0m \u001b[0my_true\u001b[0m\u001b[1;33m,\u001b[0m \u001b[0my_pred\u001b[0m \u001b[1;33m=\u001b[0m \u001b[0m_check_targets\u001b[0m\u001b[1;33m(\u001b[0m\u001b[0my_true\u001b[0m\u001b[1;33m,\u001b[0m \u001b[0my_pred\u001b[0m\u001b[1;33m)\u001b[0m\u001b[1;33m\u001b[0m\u001b[1;33m\u001b[0m\u001b[0m\n\u001b[0m\u001b[0;32m   1967\u001b[0m \u001b[1;33m\u001b[0m\u001b[0m\n\u001b[0;32m   1968\u001b[0m     \u001b[1;32mif\u001b[0m \u001b[0mlabels\u001b[0m \u001b[1;32mis\u001b[0m \u001b[1;32mNone\u001b[0m\u001b[1;33m:\u001b[0m\u001b[1;33m\u001b[0m\u001b[1;33m\u001b[0m\u001b[0m\n",
      "\u001b[1;32m~\\anaconda3\\lib\\site-packages\\sklearn\\metrics\\_classification.py\u001b[0m in \u001b[0;36m_check_targets\u001b[1;34m(y_true, y_pred)\u001b[0m\n\u001b[0;32m     98\u001b[0m     \u001b[1;31m# No metrics support \"multiclass-multioutput\" format\u001b[0m\u001b[1;33m\u001b[0m\u001b[1;33m\u001b[0m\u001b[1;33m\u001b[0m\u001b[0m\n\u001b[0;32m     99\u001b[0m     \u001b[1;32mif\u001b[0m \u001b[1;33m(\u001b[0m\u001b[0my_type\u001b[0m \u001b[1;32mnot\u001b[0m \u001b[1;32min\u001b[0m \u001b[1;33m[\u001b[0m\u001b[1;34m\"binary\"\u001b[0m\u001b[1;33m,\u001b[0m \u001b[1;34m\"multiclass\"\u001b[0m\u001b[1;33m,\u001b[0m \u001b[1;34m\"multilabel-indicator\"\u001b[0m\u001b[1;33m]\u001b[0m\u001b[1;33m)\u001b[0m\u001b[1;33m:\u001b[0m\u001b[1;33m\u001b[0m\u001b[1;33m\u001b[0m\u001b[0m\n\u001b[1;32m--> 100\u001b[1;33m         \u001b[1;32mraise\u001b[0m \u001b[0mValueError\u001b[0m\u001b[1;33m(\u001b[0m\u001b[1;34m\"{0} is not supported\"\u001b[0m\u001b[1;33m.\u001b[0m\u001b[0mformat\u001b[0m\u001b[1;33m(\u001b[0m\u001b[0my_type\u001b[0m\u001b[1;33m)\u001b[0m\u001b[1;33m)\u001b[0m\u001b[1;33m\u001b[0m\u001b[1;33m\u001b[0m\u001b[0m\n\u001b[0m\u001b[0;32m    101\u001b[0m \u001b[1;33m\u001b[0m\u001b[0m\n\u001b[0;32m    102\u001b[0m     \u001b[1;32mif\u001b[0m \u001b[0my_type\u001b[0m \u001b[1;32min\u001b[0m \u001b[1;33m[\u001b[0m\u001b[1;34m\"binary\"\u001b[0m\u001b[1;33m,\u001b[0m \u001b[1;34m\"multiclass\"\u001b[0m\u001b[1;33m]\u001b[0m\u001b[1;33m:\u001b[0m\u001b[1;33m\u001b[0m\u001b[1;33m\u001b[0m\u001b[0m\n",
      "\u001b[1;31mValueError\u001b[0m: continuous is not supported"
     ]
    }
   ],
   "source": []
  },
  {
   "cell_type": "code",
   "execution_count": null,
   "metadata": {},
   "outputs": [],
   "source": []
  },
  {
   "cell_type": "code",
   "execution_count": null,
   "metadata": {},
   "outputs": [],
   "source": []
  }
 ],
 "metadata": {
  "colab": {
   "collapsed_sections": [],
   "name": "feature_engineering final.ipynb",
   "provenance": []
  },
  "kernelspec": {
   "display_name": "Python 3",
   "language": "python",
   "name": "python3"
  },
  "language_info": {
   "codemirror_mode": {
    "name": "ipython",
    "version": 3
   },
   "file_extension": ".py",
   "mimetype": "text/x-python",
   "name": "python",
   "nbconvert_exporter": "python",
   "pygments_lexer": "ipython3",
   "version": "3.8.8"
  }
 },
 "nbformat": 4,
 "nbformat_minor": 1
}
